{
 "cells": [
  {
   "cell_type": "markdown",
   "metadata": {},
   "source": [
    "# Libraries"
   ]
  },
  {
   "cell_type": "code",
   "execution_count": 2,
   "metadata": {},
   "outputs": [],
   "source": [
    "import pandas as pd\n",
    "import wbgapi as wb\n",
    "import os\n",
    "import matplotlib.pyplot as plt"
   ]
  },
  {
   "cell_type": "markdown",
   "metadata": {},
   "source": [
    "# Data preparation"
   ]
  },
  {
   "cell_type": "code",
   "execution_count": 3,
   "metadata": {},
   "outputs": [],
   "source": [
    "# Create a data folder\n",
    "try:\n",
    "    os.mkdir('data')\n",
    "except FileExistsError:\n",
    "    pass"
   ]
  },
  {
   "cell_type": "markdown",
   "metadata": {},
   "source": [
    "### Data loading"
   ]
  },
  {
   "cell_type": "code",
   "execution_count": 5,
   "metadata": {},
   "outputs": [
    {
     "data": {
      "text/html": [
       "<div class=\"wbgapi\"><table>\n",
       "<thead>\n",
       "<tr><th>id                  </th><th>value                                                                                                                                       </th></tr>\n",
       "</thead>\n",
       "<tbody>\n",
       "<tr><td>FX.OWN.TOTL.PL.ZS   </td><td>Account ownership at a financial institution or with a mobile-money-service provider, primary education or less (% of population ages 15+)  </td></tr>\n",
       "<tr><td>FX.OWN.TOTL.SO.ZS   </td><td>Account ownership at a financial institution or with a mobile-money-service provider, secondary education or more (% of population ages 15+)</td></tr>\n",
       "<tr><td>NY.ADJ.AEDU.CD      </td><td>Adjusted savings: education expenditure (current US$)                                                                                       </td></tr>\n",
       "<tr><td>NY.ADJ.AEDU.GN.ZS   </td><td>Adjusted savings: education expenditure (% of GNI)                                                                                          </td></tr>\n",
       "<tr><td>SE.COM.DURS         </td><td>Compulsory education, duration (years)                                                                                                      </td></tr>\n",
       "<tr><td>SE.PRE.DURS         </td><td>Preprimary education, duration (years)                                                                                                      </td></tr>\n",
       "<tr><td>SE.PRE.TCAQ.FE.ZS   </td><td>Trained teachers in preprimary education, female (% of female teachers)                                                                     </td></tr>\n",
       "<tr><td>SE.PRE.TCAQ.MA.ZS   </td><td>Trained teachers in preprimary education, male (% of male teachers)                                                                         </td></tr>\n",
       "<tr><td>SE.PRE.TCAQ.ZS      </td><td>Trained teachers in preprimary education (% of total teachers)                                                                              </td></tr>\n",
       "<tr><td>SE.PRM.CUAT.FE.ZS   </td><td>Educational attainment, at least completed primary, population 25+ years, female (%) (cumulative)                                           </td></tr>\n",
       "<tr><td>SE.PRM.CUAT.MA.ZS   </td><td>Educational attainment, at least completed primary, population 25+ years, male (%) (cumulative)                                             </td></tr>\n",
       "<tr><td>SE.PRM.CUAT.ZS      </td><td>Educational attainment, at least completed primary, population 25+ years, total (%) (cumulative)                                            </td></tr>\n",
       "<tr><td>SE.PRM.DURS         </td><td>Primary education, duration (years)                                                                                                         </td></tr>\n",
       "<tr><td>SE.PRM.ENRL         </td><td>Primary education, pupils                                                                                                                   </td></tr>\n",
       "<tr><td>SE.PRM.ENRL.FE.ZS   </td><td>Primary education, pupils (% female)                                                                                                        </td></tr>\n",
       "<tr><td>SE.PRM.GINT.FE.ZS   </td><td>Gross intake ratio in first grade of primary education, female (% of relevant age group)                                                    </td></tr>\n",
       "<tr><td>SE.PRM.GINT.MA.ZS   </td><td>Gross intake ratio in first grade of primary education, male (% of relevant age group)                                                      </td></tr>\n",
       "<tr><td>SE.PRM.GINT.ZS      </td><td>Gross intake ratio in first grade of primary education, total (% of relevant age group)                                                     </td></tr>\n",
       "<tr><td>SE.PRM.TCAQ.FE.ZS   </td><td>Trained teachers in primary education, female (% of female teachers)                                                                        </td></tr>\n",
       "<tr><td>SE.PRM.TCAQ.MA.ZS   </td><td>Trained teachers in primary education, male (% of male teachers)                                                                            </td></tr>\n",
       "<tr><td>SE.PRM.TCAQ.ZS      </td><td>Trained teachers in primary education (% of total teachers)                                                                                 </td></tr>\n",
       "<tr><td>SE.PRM.TCHR         </td><td>Primary education, teachers                                                                                                                 </td></tr>\n",
       "<tr><td>SE.PRM.TCHR.FE.ZS   </td><td>Primary education, teachers (% female)                                                                                                      </td></tr>\n",
       "<tr><td>SE.SEC.CUAT.LO.FE.ZS</td><td>Educational attainment, at least completed lower secondary, population 25+, female (%) (cumulative)                                         </td></tr>\n",
       "<tr><td>SE.SEC.CUAT.LO.MA.ZS</td><td>Educational attainment, at least completed lower secondary, population 25+, male (%) (cumulative)                                           </td></tr>\n",
       "<tr><td>SE.SEC.CUAT.LO.ZS   </td><td>Educational attainment, at least completed lower secondary, population 25+, total (%) (cumulative)                                          </td></tr>\n",
       "<tr><td>SE.SEC.CUAT.PO.FE.ZS</td><td>Educational attainment, at least completed post-secondary, population 25+, female (%) (cumulative)                                          </td></tr>\n",
       "<tr><td>SE.SEC.CUAT.PO.MA.ZS</td><td>Educational attainment, at least completed post-secondary, population 25+, male (%) (cumulative)                                            </td></tr>\n",
       "<tr><td>SE.SEC.CUAT.PO.ZS   </td><td>Educational attainment, at least completed post-secondary, population 25+, total (%) (cumulative)                                           </td></tr>\n",
       "<tr><td>SE.SEC.CUAT.UP.FE.ZS</td><td>Educational attainment, at least completed upper secondary, population 25+, female (%) (cumulative)                                         </td></tr>\n",
       "<tr><td>SE.SEC.CUAT.UP.MA.ZS</td><td>Educational attainment, at least completed upper secondary, population 25+, male (%) (cumulative)                                           </td></tr>\n",
       "<tr><td>SE.SEC.CUAT.UP.ZS   </td><td>Educational attainment, at least completed upper secondary, population 25+, total (%) (cumulative)                                          </td></tr>\n",
       "<tr><td>SE.SEC.DURS         </td><td>Secondary education, duration (years)                                                                                                       </td></tr>\n",
       "<tr><td>SE.SEC.ENRL         </td><td>Secondary education, pupils                                                                                                                 </td></tr>\n",
       "<tr><td>SE.SEC.ENRL.FE.ZS   </td><td>Secondary education, pupils (% female)                                                                                                      </td></tr>\n",
       "<tr><td>SE.SEC.ENRL.GC      </td><td>Secondary education, general pupils                                                                                                         </td></tr>\n",
       "<tr><td>SE.SEC.ENRL.GC.FE.ZS</td><td>Secondary education, general pupils (% female)                                                                                              </td></tr>\n",
       "<tr><td>SE.SEC.ENRL.VO      </td><td>Secondary education, vocational pupils                                                                                                      </td></tr>\n",
       "<tr><td>SE.SEC.ENRL.VO.FE.ZS</td><td>Secondary education, vocational pupils (% female)                                                                                           </td></tr>\n",
       "<tr><td>SE.SEC.TCAQ.FE.ZS   </td><td>Trained teachers in secondary education, female (% of female teachers)                                                                      </td></tr>\n",
       "<tr><td>SE.SEC.TCAQ.LO.FE.ZS</td><td>Trained teachers in lower secondary education, female (% of female teachers)                                                                </td></tr>\n",
       "<tr><td>SE.SEC.TCAQ.LO.MA.ZS</td><td>Trained teachers in lower secondary education, male (% of male teachers)                                                                    </td></tr>\n",
       "<tr><td>SE.SEC.TCAQ.LO.ZS   </td><td>Trained teachers in lower secondary education (% of total teachers)                                                                         </td></tr>\n",
       "<tr><td>SE.SEC.TCAQ.MA.ZS   </td><td>Trained teachers in secondary education, male (% of male teachers)                                                                          </td></tr>\n",
       "<tr><td>SE.SEC.TCAQ.UP.FE.ZS</td><td>Trained teachers in upper secondary education, female (% of female teachers)                                                                </td></tr>\n",
       "<tr><td>SE.SEC.TCAQ.UP.MA.ZS</td><td>Trained teachers in upper secondary education, male (% of male teachers)                                                                    </td></tr>\n",
       "<tr><td>SE.SEC.TCAQ.UP.ZS   </td><td>Trained teachers in upper secondary education (% of total teachers)                                                                         </td></tr>\n",
       "<tr><td>SE.SEC.TCAQ.ZS      </td><td>Trained teachers in secondary education (% of total teachers)                                                                               </td></tr>\n",
       "<tr><td>SE.SEC.TCHR         </td><td>Secondary education, teachers                                                                                                               </td></tr>\n",
       "<tr><td>SE.SEC.TCHR.FE      </td><td>Secondary education, teachers, female                                                                                                       </td></tr>\n",
       "<tr><td>SE.SEC.TCHR.FE.ZS   </td><td>Secondary education, teachers (% female)                                                                                                    </td></tr>\n",
       "<tr><td>SE.TER.CUAT.BA.FE.ZS</td><td>Educational attainment, at least Bachelor&#x27;s or equivalent, population 25+, female (%) (cumulative)                                          </td></tr>\n",
       "<tr><td>SE.TER.CUAT.BA.MA.ZS</td><td>Educational attainment, at least Bachelor&#x27;s or equivalent, population 25+, male (%) (cumulative)                                            </td></tr>\n",
       "<tr><td>SE.TER.CUAT.BA.ZS   </td><td>Educational attainment, at least Bachelor&#x27;s or equivalent, population 25+, total (%) (cumulative)                                           </td></tr>\n",
       "<tr><td>SE.TER.CUAT.DO.FE.ZS</td><td>Educational attainment, Doctoral or equivalent, population 25+, female (%) (cumulative)                                                     </td></tr>\n",
       "<tr><td>SE.TER.CUAT.DO.MA.ZS</td><td>Educational attainment, Doctoral or equivalent, population 25+, male (%) (cumulative)                                                       </td></tr>\n",
       "<tr><td>SE.TER.CUAT.DO.ZS   </td><td>Educational attainment, Doctoral or equivalent, population 25+, total (%) (cumulative)                                                      </td></tr>\n",
       "<tr><td>SE.TER.CUAT.MS.FE.ZS</td><td>Educational attainment, at least Master&#x27;s or equivalent, population 25+, female (%) (cumulative)                                            </td></tr>\n",
       "<tr><td>SE.TER.CUAT.MS.MA.ZS</td><td>Educational attainment, at least Master&#x27;s or equivalent, population 25+, male (%) (cumulative)                                              </td></tr>\n",
       "<tr><td>SE.TER.CUAT.MS.ZS   </td><td>Educational attainment, at least Master&#x27;s or equivalent, population 25+, total (%) (cumulative)                                             </td></tr>\n",
       "<tr><td>SE.TER.CUAT.ST.FE.ZS</td><td>Educational attainment, at least completed short-cycle tertiary, population 25+, female (%) (cumulative)                                    </td></tr>\n",
       "<tr><td>SE.TER.CUAT.ST.MA.ZS</td><td>Educational attainment, at least completed short-cycle tertiary, population 25+, male (%) (cumulative)                                      </td></tr>\n",
       "<tr><td>SE.TER.CUAT.ST.ZS   </td><td>Educational attainment, at least completed short-cycle tertiary, population 25+, total (%) (cumulative)                                     </td></tr>\n",
       "<tr><td>SE.TER.TCHR.FE.ZS   </td><td>Tertiary education, academic staff (% female)                                                                                               </td></tr>\n",
       "<tr><td>SE.XPD.CPRM.ZS      </td><td>Current education expenditure, primary (% of total expenditure in primary public institutions)                                              </td></tr>\n",
       "<tr><td>SE.XPD.CSEC.ZS      </td><td>Current education expenditure, secondary (% of total expenditure in secondary public institutions)                                          </td></tr>\n",
       "<tr><td>SE.XPD.CTER.ZS      </td><td>Current education expenditure, tertiary (% of total expenditure in tertiary public institutions)                                            </td></tr>\n",
       "<tr><td>SE.XPD.CTOT.ZS      </td><td>Current education expenditure, total (% of total expenditure in public institutions)                                                        </td></tr>\n",
       "<tr><td>SE.XPD.PRIM.ZS      </td><td>Expenditure on primary education (% of government expenditure on education)                                                                 </td></tr>\n",
       "<tr><td>SE.XPD.SECO.ZS      </td><td>Expenditure on secondary education (% of government expenditure on education)                                                               </td></tr>\n",
       "<tr><td>SE.XPD.TERT.ZS      </td><td>Expenditure on tertiary education (% of government expenditure on education)                                                                </td></tr>\n",
       "<tr><td>SE.XPD.TOTL.GB.ZS   </td><td>Government expenditure on education, total (% of government expenditure)                                                                    </td></tr>\n",
       "<tr><td>SE.XPD.TOTL.GD.ZS   </td><td>Government expenditure on education, total (% of GDP)                                                                                       </td></tr>\n",
       "<tr><td>SL.TLF.ADVN.FE.ZS   </td><td>Labor force with advanced education, female (% of female working-age population with advanced education)                                    </td></tr>\n",
       "<tr><td>SL.TLF.ADVN.MA.ZS   </td><td>Labor force with advanced education, male (% of male working-age population with advanced education)                                        </td></tr>\n",
       "<tr><td>SL.TLF.ADVN.ZS      </td><td>Labor force with advanced education (% of total working-age population with advanced education)                                             </td></tr>\n",
       "<tr><td>SL.TLF.BASC.FE.ZS   </td><td>Labor force with basic education, female (% of female working-age population with basic education)                                          </td></tr>\n",
       "<tr><td>SL.TLF.BASC.MA.ZS   </td><td>Labor force with basic education, male (% of male working-age population with basic education)                                              </td></tr>\n",
       "<tr><td>SL.TLF.BASC.ZS      </td><td>Labor force with basic education (% of total working-age population with basic education)                                                   </td></tr>\n",
       "<tr><td>SL.TLF.INTM.FE.ZS   </td><td>Labor force with intermediate education, female (% of female working-age population with intermediate education)                            </td></tr>\n",
       "<tr><td>SL.TLF.INTM.MA.ZS   </td><td>Labor force with intermediate education, male (% of male working-age population with intermediate education)                                </td></tr>\n",
       "<tr><td>SL.TLF.INTM.ZS      </td><td>Labor force with intermediate education (% of total working-age population with intermediate education)                                     </td></tr>\n",
       "<tr><td>SL.UEM.ADVN.FE.ZS   </td><td>Unemployment with advanced education, female (% of female labor force with advanced education)                                              </td></tr>\n",
       "<tr><td>SL.UEM.ADVN.MA.ZS   </td><td>Unemployment with advanced education, male (% of male labor force with advanced education)                                                  </td></tr>\n",
       "<tr><td>SL.UEM.ADVN.ZS      </td><td>Unemployment with advanced education (% of total labor force with advanced education)                                                       </td></tr>\n",
       "<tr><td>SL.UEM.BASC.FE.ZS   </td><td>Unemployment with basic education, female (% of female labor force with basic education)                                                    </td></tr>\n",
       "<tr><td>SL.UEM.BASC.MA.ZS   </td><td>Unemployment with basic education, male (% of male labor force with basic education)                                                        </td></tr>\n",
       "<tr><td>SL.UEM.BASC.ZS      </td><td>Unemployment with basic education (% of total labor force with basic education)                                                             </td></tr>\n",
       "<tr><td>SL.UEM.INTM.FE.ZS   </td><td>Unemployment with intermediate education, female (% of female labor force with intermediate education)                                      </td></tr>\n",
       "<tr><td>SL.UEM.INTM.MA.ZS   </td><td>Unemployment with intermediate education, male (% of male labor force with intermediate education)                                          </td></tr>\n",
       "<tr><td>SL.UEM.INTM.ZS      </td><td>Unemployment with intermediate education (% of total labor force with intermediate education)                                               </td></tr>\n",
       "<tr><td>SL.UEM.NEET.FE.ZS   </td><td>Share of youth not in education, employment or training, female (% of female youth population)                                              </td></tr>\n",
       "<tr><td>SL.UEM.NEET.MA.ZS   </td><td>Share of youth not in education, employment or training, male (% of male youth population)                                                  </td></tr>\n",
       "<tr><td>SL.UEM.NEET.ZS      </td><td>Share of youth not in education, employment or training, total (% of youth population)                                                      </td></tr>\n",
       "<tr><td>                    </td><td>94 elements                                                                                                                                 </td></tr>\n",
       "</tbody>\n",
       "</table></div>"
      ],
      "text/plain": [
       "id                    value\n",
       "--------------------  --------------------------------------------------------------------------------------------------------------------------------------------\n",
       "FX.OWN.TOTL.PL.ZS     Account ownership at a financial institution or with a mobile-money-service provider, primary education or less (% of population ages 15+)\n",
       "FX.OWN.TOTL.SO.ZS     Account ownership at a financial institution or with a mobile-money-service provider, secondary education or more (% of population ages 15+)\n",
       "NY.ADJ.AEDU.CD        Adjusted savings: education expenditure (current US$)\n",
       "NY.ADJ.AEDU.GN.ZS     Adjusted savings: education expenditure (% of GNI)\n",
       "SE.COM.DURS           Compulsory education, duration (years)\n",
       "SE.PRE.DURS           Preprimary education, duration (years)\n",
       "SE.PRE.TCAQ.FE.ZS     Trained teachers in preprimary education, female (% of female teachers)\n",
       "SE.PRE.TCAQ.MA.ZS     Trained teachers in preprimary education, male (% of male teachers)\n",
       "SE.PRE.TCAQ.ZS        Trained teachers in preprimary education (% of total teachers)\n",
       "SE.PRM.CUAT.FE.ZS     Educational attainment, at least completed primary, population 25+ years, female (%) (cumulative)\n",
       "SE.PRM.CUAT.MA.ZS     Educational attainment, at least completed primary, population 25+ years, male (%) (cumulative)\n",
       "SE.PRM.CUAT.ZS        Educational attainment, at least completed primary, population 25+ years, total (%) (cumulative)\n",
       "SE.PRM.DURS           Primary education, duration (years)\n",
       "SE.PRM.ENRL           Primary education, pupils\n",
       "SE.PRM.ENRL.FE.ZS     Primary education, pupils (% female)\n",
       "SE.PRM.GINT.FE.ZS     Gross intake ratio in first grade of primary education, female (% of relevant age group)\n",
       "SE.PRM.GINT.MA.ZS     Gross intake ratio in first grade of primary education, male (% of relevant age group)\n",
       "SE.PRM.GINT.ZS        Gross intake ratio in first grade of primary education, total (% of relevant age group)\n",
       "SE.PRM.TCAQ.FE.ZS     Trained teachers in primary education, female (% of female teachers)\n",
       "SE.PRM.TCAQ.MA.ZS     Trained teachers in primary education, male (% of male teachers)\n",
       "SE.PRM.TCAQ.ZS        Trained teachers in primary education (% of total teachers)\n",
       "SE.PRM.TCHR           Primary education, teachers\n",
       "SE.PRM.TCHR.FE.ZS     Primary education, teachers (% female)\n",
       "SE.SEC.CUAT.LO.FE.ZS  Educational attainment, at least completed lower secondary, population 25+, female (%) (cumulative)\n",
       "SE.SEC.CUAT.LO.MA.ZS  Educational attainment, at least completed lower secondary, population 25+, male (%) (cumulative)\n",
       "SE.SEC.CUAT.LO.ZS     Educational attainment, at least completed lower secondary, population 25+, total (%) (cumulative)\n",
       "SE.SEC.CUAT.PO.FE.ZS  Educational attainment, at least completed post-secondary, population 25+, female (%) (cumulative)\n",
       "SE.SEC.CUAT.PO.MA.ZS  Educational attainment, at least completed post-secondary, population 25+, male (%) (cumulative)\n",
       "SE.SEC.CUAT.PO.ZS     Educational attainment, at least completed post-secondary, population 25+, total (%) (cumulative)\n",
       "SE.SEC.CUAT.UP.FE.ZS  Educational attainment, at least completed upper secondary, population 25+, female (%) (cumulative)\n",
       "SE.SEC.CUAT.UP.MA.ZS  Educational attainment, at least completed upper secondary, population 25+, male (%) (cumulative)\n",
       "SE.SEC.CUAT.UP.ZS     Educational attainment, at least completed upper secondary, population 25+, total (%) (cumulative)\n",
       "SE.SEC.DURS           Secondary education, duration (years)\n",
       "SE.SEC.ENRL           Secondary education, pupils\n",
       "SE.SEC.ENRL.FE.ZS     Secondary education, pupils (% female)\n",
       "SE.SEC.ENRL.GC        Secondary education, general pupils\n",
       "SE.SEC.ENRL.GC.FE.ZS  Secondary education, general pupils (% female)\n",
       "SE.SEC.ENRL.VO        Secondary education, vocational pupils\n",
       "SE.SEC.ENRL.VO.FE.ZS  Secondary education, vocational pupils (% female)\n",
       "SE.SEC.TCAQ.FE.ZS     Trained teachers in secondary education, female (% of female teachers)\n",
       "SE.SEC.TCAQ.LO.FE.ZS  Trained teachers in lower secondary education, female (% of female teachers)\n",
       "SE.SEC.TCAQ.LO.MA.ZS  Trained teachers in lower secondary education, male (% of male teachers)\n",
       "SE.SEC.TCAQ.LO.ZS     Trained teachers in lower secondary education (% of total teachers)\n",
       "SE.SEC.TCAQ.MA.ZS     Trained teachers in secondary education, male (% of male teachers)\n",
       "SE.SEC.TCAQ.UP.FE.ZS  Trained teachers in upper secondary education, female (% of female teachers)\n",
       "SE.SEC.TCAQ.UP.MA.ZS  Trained teachers in upper secondary education, male (% of male teachers)\n",
       "SE.SEC.TCAQ.UP.ZS     Trained teachers in upper secondary education (% of total teachers)\n",
       "SE.SEC.TCAQ.ZS        Trained teachers in secondary education (% of total teachers)\n",
       "SE.SEC.TCHR           Secondary education, teachers\n",
       "SE.SEC.TCHR.FE        Secondary education, teachers, female\n",
       "SE.SEC.TCHR.FE.ZS     Secondary education, teachers (% female)\n",
       "SE.TER.CUAT.BA.FE.ZS  Educational attainment, at least Bachelor's or equivalent, population 25+, female (%) (cumulative)\n",
       "SE.TER.CUAT.BA.MA.ZS  Educational attainment, at least Bachelor's or equivalent, population 25+, male (%) (cumulative)\n",
       "SE.TER.CUAT.BA.ZS     Educational attainment, at least Bachelor's or equivalent, population 25+, total (%) (cumulative)\n",
       "SE.TER.CUAT.DO.FE.ZS  Educational attainment, Doctoral or equivalent, population 25+, female (%) (cumulative)\n",
       "SE.TER.CUAT.DO.MA.ZS  Educational attainment, Doctoral or equivalent, population 25+, male (%) (cumulative)\n",
       "SE.TER.CUAT.DO.ZS     Educational attainment, Doctoral or equivalent, population 25+, total (%) (cumulative)\n",
       "SE.TER.CUAT.MS.FE.ZS  Educational attainment, at least Master's or equivalent, population 25+, female (%) (cumulative)\n",
       "SE.TER.CUAT.MS.MA.ZS  Educational attainment, at least Master's or equivalent, population 25+, male (%) (cumulative)\n",
       "SE.TER.CUAT.MS.ZS     Educational attainment, at least Master's or equivalent, population 25+, total (%) (cumulative)\n",
       "SE.TER.CUAT.ST.FE.ZS  Educational attainment, at least completed short-cycle tertiary, population 25+, female (%) (cumulative)\n",
       "SE.TER.CUAT.ST.MA.ZS  Educational attainment, at least completed short-cycle tertiary, population 25+, male (%) (cumulative)\n",
       "SE.TER.CUAT.ST.ZS     Educational attainment, at least completed short-cycle tertiary, population 25+, total (%) (cumulative)\n",
       "SE.TER.TCHR.FE.ZS     Tertiary education, academic staff (% female)\n",
       "SE.XPD.CPRM.ZS        Current education expenditure, primary (% of total expenditure in primary public institutions)\n",
       "SE.XPD.CSEC.ZS        Current education expenditure, secondary (% of total expenditure in secondary public institutions)\n",
       "SE.XPD.CTER.ZS        Current education expenditure, tertiary (% of total expenditure in tertiary public institutions)\n",
       "SE.XPD.CTOT.ZS        Current education expenditure, total (% of total expenditure in public institutions)\n",
       "SE.XPD.PRIM.ZS        Expenditure on primary education (% of government expenditure on education)\n",
       "SE.XPD.SECO.ZS        Expenditure on secondary education (% of government expenditure on education)\n",
       "SE.XPD.TERT.ZS        Expenditure on tertiary education (% of government expenditure on education)\n",
       "SE.XPD.TOTL.GB.ZS     Government expenditure on education, total (% of government expenditure)\n",
       "SE.XPD.TOTL.GD.ZS     Government expenditure on education, total (% of GDP)\n",
       "SL.TLF.ADVN.FE.ZS     Labor force with advanced education, female (% of female working-age population with advanced education)\n",
       "SL.TLF.ADVN.MA.ZS     Labor force with advanced education, male (% of male working-age population with advanced education)\n",
       "SL.TLF.ADVN.ZS        Labor force with advanced education (% of total working-age population with advanced education)\n",
       "SL.TLF.BASC.FE.ZS     Labor force with basic education, female (% of female working-age population with basic education)\n",
       "SL.TLF.BASC.MA.ZS     Labor force with basic education, male (% of male working-age population with basic education)\n",
       "SL.TLF.BASC.ZS        Labor force with basic education (% of total working-age population with basic education)\n",
       "SL.TLF.INTM.FE.ZS     Labor force with intermediate education, female (% of female working-age population with intermediate education)\n",
       "SL.TLF.INTM.MA.ZS     Labor force with intermediate education, male (% of male working-age population with intermediate education)\n",
       "SL.TLF.INTM.ZS        Labor force with intermediate education (% of total working-age population with intermediate education)\n",
       "SL.UEM.ADVN.FE.ZS     Unemployment with advanced education, female (% of female labor force with advanced education)\n",
       "SL.UEM.ADVN.MA.ZS     Unemployment with advanced education, male (% of male labor force with advanced education)\n",
       "SL.UEM.ADVN.ZS        Unemployment with advanced education (% of total labor force with advanced education)\n",
       "SL.UEM.BASC.FE.ZS     Unemployment with basic education, female (% of female labor force with basic education)\n",
       "SL.UEM.BASC.MA.ZS     Unemployment with basic education, male (% of male labor force with basic education)\n",
       "SL.UEM.BASC.ZS        Unemployment with basic education (% of total labor force with basic education)\n",
       "SL.UEM.INTM.FE.ZS     Unemployment with intermediate education, female (% of female labor force with intermediate education)\n",
       "SL.UEM.INTM.MA.ZS     Unemployment with intermediate education, male (% of male labor force with intermediate education)\n",
       "SL.UEM.INTM.ZS        Unemployment with intermediate education (% of total labor force with intermediate education)\n",
       "SL.UEM.NEET.FE.ZS     Share of youth not in education, employment or training, female (% of female youth population)\n",
       "SL.UEM.NEET.MA.ZS     Share of youth not in education, employment or training, male (% of male youth population)\n",
       "SL.UEM.NEET.ZS        Share of youth not in education, employment or training, total (% of youth population)\n",
       "                      94 elements"
      ]
     },
     "execution_count": 5,
     "metadata": {},
     "output_type": "execute_result"
    }
   ],
   "source": [
    "wb.series.info(q='education')"
   ]
  },
  {
   "cell_type": "code",
   "execution_count": 6,
   "metadata": {},
   "outputs": [],
   "source": [
    "# Select series to get\n",
    "series = {'NY.GDP.PCAP.PP.CD': 'gdp_per_capita_ppp', 'SP.DYN.LE00.IN': 'life_expectancy', 'SL.UEM.TOTL.ZS': 'unemployment', 'NV.AGR.TOTL.ZS': 'agriculture_%_GDP', \\\n",
    "         'GC.TAX.TOTL.GD.ZS': 'tax_revenue_%_GDP', 'NE.EXP.GNFS.ZS': 'exports_%_GDP', 'GC.XPN.TOTL.GD.ZS': 'public_expense_%_GDP', 'SE.XPD.TOTL.GD.ZS': 'education_expense_%_GDP'}\n",
    "\n",
    "# Get the last 50 years of the series data and store it\n",
    "## IMPORTANT: MAY TAKE UP TO 3 MINUTES TO LOAD\n",
    "df = wb.data.DataFrame(list(series.keys()), mrv=50)"
   ]
  },
  {
   "cell_type": "markdown",
   "metadata": {},
   "source": [
    "### Data cleaning"
   ]
  },
  {
   "cell_type": "code",
   "execution_count": 7,
   "metadata": {},
   "outputs": [
    {
     "data": {
      "text/plain": [
       "YR1971    1605\n",
       "YR1972    1532\n",
       "YR1973    1512\n",
       "YR1974    1509\n",
       "YR1975    1486\n",
       "YR1976    1481\n",
       "YR1977    1472\n",
       "YR1978    1471\n",
       "YR1979    1464\n",
       "YR1980    1424\n",
       "YR1981    1420\n",
       "YR1982    1411\n",
       "YR1983    1414\n",
       "YR1984    1413\n",
       "YR1985    1411\n",
       "YR1986    1400\n",
       "YR1987    1400\n",
       "YR1988    1397\n",
       "YR1989    1382\n",
       "YR1990    1102\n",
       "YR1991     850\n",
       "YR1992     840\n",
       "YR1993     834\n",
       "YR1994     799\n",
       "YR1995     715\n",
       "YR1996     718\n",
       "YR1997     752\n",
       "YR1998     679\n",
       "YR1999     624\n",
       "YR2000     607\n",
       "YR2001     600\n",
       "YR2002     567\n",
       "YR2003     580\n",
       "YR2004     546\n",
       "YR2005     560\n",
       "YR2006     555\n",
       "YR2007     556\n",
       "YR2008     503\n",
       "YR2009     498\n",
       "YR2010     457\n",
       "YR2011     445\n",
       "YR2012     444\n",
       "YR2013     432\n",
       "YR2014     418\n",
       "YR2015     396\n",
       "YR2016     408\n",
       "YR2017     407\n",
       "YR2018     439\n",
       "YR2019     561\n",
       "YR2020    1254\n",
       "dtype: int64"
      ]
     },
     "execution_count": 7,
     "metadata": {},
     "output_type": "execute_result"
    }
   ],
   "source": [
    "df.isna().sum()"
   ]
  },
  {
   "cell_type": "code",
   "execution_count": 8,
   "metadata": {},
   "outputs": [
    {
     "name": "stdout",
     "output_type": "stream",
     "text": [
      "<class 'pandas.core.frame.DataFrame'>\n",
      "Int64Index: 2449 entries, 77 to 12592\n",
      "Data columns (total 10 columns):\n",
      " #   Column                   Non-Null Count  Dtype  \n",
      "---  ------                   --------------  -----  \n",
      " 0   economy                  2449 non-null   object \n",
      " 1   year                     2449 non-null   object \n",
      " 2   tax_revenue_%_GDP        2449 non-null   float64\n",
      " 3   public_expense_%_GDP     2449 non-null   float64\n",
      " 4   exports_%_GDP            2449 non-null   float64\n",
      " 5   agriculture_%_GDP        2449 non-null   float64\n",
      " 6   gdp_per_capita_ppp       2449 non-null   float64\n",
      " 7   education_expense_%_GDP  2449 non-null   float64\n",
      " 8   unemployment             2449 non-null   float64\n",
      " 9   life_expectancy          2449 non-null   float64\n",
      "dtypes: float64(8), object(2)\n",
      "memory usage: 210.5+ KB\n"
     ]
    }
   ],
   "source": [
    "# Transform the dataframe to long format\n",
    "df_long = pd.melt(df.reset_index(), id_vars=['economy', 'series'], var_name='year')\n",
    "\n",
    "# Get series into columns\n",
    "df_clean = df_long.pivot_table(index=['economy', 'year'], columns=['series'], values='value').reset_index()\n",
    "\n",
    "# Fix 'year' column\n",
    "df_clean['year'] = df_clean['year'].str[2:]\n",
    "\n",
    "# Rename series column\n",
    "df_clean = df_clean.rename(columns=series)\n",
    "\n",
    "# Fill out missing values with the mean of the country value\n",
    "for i in ['unemployment', 'gdp_per_capita_ppp', 'life_expectancy']:\n",
    "    df_clean[i] = df_clean.groupby(\"economy\")[i].transform(lambda x: x.fillna(x.mean()))\n",
    "\n",
    "# Drop rows with missing values\n",
    "df_clean = df_clean.dropna()\n",
    "\n",
    "df_clean.info()"
   ]
  },
  {
   "cell_type": "markdown",
   "metadata": {},
   "source": [
    "## Machine learning"
   ]
  },
  {
   "cell_type": "code",
   "execution_count": 9,
   "metadata": {},
   "outputs": [],
   "source": [
    "df_ml = df_clean.drop(['economy', 'year'], axis=1)"
   ]
  },
  {
   "cell_type": "code",
   "execution_count": 19,
   "metadata": {},
   "outputs": [],
   "source": [
    "X = df_ml.drop(['gdp_per_capita_ppp'], axis=1).values\n",
    "y = df_ml['gdp_per_capita_ppp'].values"
   ]
  },
  {
   "cell_type": "code",
   "execution_count": 20,
   "metadata": {},
   "outputs": [
    {
     "data": {
      "text/plain": [
       "0.6046442303679432"
      ]
     },
     "execution_count": 20,
     "metadata": {},
     "output_type": "execute_result"
    }
   ],
   "source": [
    "from sklearn.model_selection import train_test_split\n",
    "from sklearn.linear_model import LinearRegression\n",
    "\n",
    "X_train, X_test, y_train, y_test = train_test_split(X, y, test_size=0.3, random_state=42)\n",
    "\n",
    "reg = LinearRegression()\n",
    "\n",
    "reg.fit(X_train, y_train)\n",
    "\n",
    "y_pred = reg.predict(X_test)\n",
    "\n",
    "reg.score(X_test, y_test)\n"
   ]
  },
  {
   "cell_type": "code",
   "execution_count": 21,
   "metadata": {},
   "outputs": [
    {
     "data": {
      "text/plain": [
       "array([0.61865283, 0.62124275, 0.62794041, 0.62988901, 0.5839768 ])"
      ]
     },
     "execution_count": 21,
     "metadata": {},
     "output_type": "execute_result"
    }
   ],
   "source": [
    "from sklearn.model_selection import cross_val_score\n",
    "from sklearn.model_selection import train_test_split\n",
    "from sklearn.linear_model import LinearRegression\n",
    "\n",
    "X_train, X_test, y_train, y_test = train_test_split(X, y, test_size=0.3, random_state=42)\n",
    "\n",
    "reg = LinearRegression()\n",
    "\n",
    "cv_results = cross_val_score(reg, X_train, y_train, cv=5)\n",
    "\n",
    "cv_results"
   ]
  },
  {
   "cell_type": "code",
   "execution_count": 22,
   "metadata": {},
   "outputs": [
    {
     "data": {
      "image/png": "[encoded data removed]",
      "text/plain": [
       "<Figure size 432x288 with 1 Axes>"
      ]
     },
     "metadata": {
      "needs_background": "light"
     },
     "output_type": "display_data"
    }
   ],
   "source": [
    "from sklearn.linear_model import Lasso\n",
    "\n",
    "names = df_ml.drop('gdp_per_capita_ppp', axis=1).columns\n",
    "\n",
    "lasso = Lasso(alpha=0.1)\n",
    "\n",
    "lasso_coef = lasso.fit(X, y).coef_\n",
    "\n",
    "plt.plot(range(len(names)), lasso_coef)\n",
    "plt.xticks(range(len(names)), names, rotation=60)\n",
    "plt.ylabel('Coefficients')\n",
    "\n",
    "plt.show()"
   ]
  },
  {
   "cell_type": "code",
   "execution_count": null,
   "metadata": {},
   "outputs": [],
   "source": []
  },
  {
   "cell_type": "code",
   "execution_count": null,
   "metadata": {},
   "outputs": [],
   "source": []
  }
 ],
 "metadata": {
  "interpreter": {
   "hash": "7120908914c11a68fcb1dcf36e54e9899c6fb953e2e371b603c2cb2413cbf985"
  },
  "kernelspec": {
   "display_name": "Python 3.9.7 64-bit",
   "language": "python",
   "name": "python3"
  },
  "language_info": {
   "codemirror_mode": {
    "name": "ipython",
    "version": 3
   },
   "file_extension": ".py",
   "mimetype": "text/x-python",
   "name": "python",
   "nbconvert_exporter": "python",
   "pygments_lexer": "ipython3",
   "version": "3.9.7"
  },
  "orig_nbformat": 4
 },
 "nbformat": 4,
 "nbformat_minor": 2
}
