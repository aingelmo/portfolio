{
 "cells": [
  {
   "cell_type": "markdown",
   "metadata": {},
   "source": [
    "# Boat sales analysis"
   ]
  },
  {
   "cell_type": "markdown",
   "metadata": {},
   "source": [
    "## Introduction\n",
    "\n",
    "The following notebook contains an analysis of a website dedicated to boat sales. The dataset contains more than 7,000 observations regarding price, type of boat and number of views among others. The objective is to get a clear view of the most seen boats and common patterns."
   ]
  },
  {
   "cell_type": "markdown",
   "metadata": {},
   "source": [
    "#### Libraries needed"
   ]
  },
  {
   "cell_type": "code",
   "execution_count": 316,
   "metadata": {},
   "outputs": [],
   "source": [
    "import pandas as pd\n",
    "import matplotlib.pyplot as plt\n",
    "import seaborn as sns"
   ]
  },
  {
   "cell_type": "markdown",
   "metadata": {},
   "source": [
    "## Data preparation"
   ]
  },
  {
   "cell_type": "markdown",
   "metadata": {},
   "source": [
    "Let's begin by loading the data from the cloud and perform the needed actions to clean the dataset."
   ]
  },
  {
   "cell_type": "code",
   "execution_count": 317,
   "metadata": {},
   "outputs": [
    {
     "data": {
      "text/html": [
       "<div>\n",
       "<style scoped>\n",
       "    .dataframe tbody tr th:only-of-type {\n",
       "        vertical-align: middle;\n",
       "    }\n",
       "\n",
       "    .dataframe tbody tr th {\n",
       "        vertical-align: top;\n",
       "    }\n",
       "\n",
       "    .dataframe thead th {\n",
       "        text-align: right;\n",
       "    }\n",
       "</style>\n",
       "<table border=\"1\" class=\"dataframe\">\n",
       "  <thead>\n",
       "    <tr style=\"text-align: right;\">\n",
       "      <th></th>\n",
       "      <th>Price</th>\n",
       "      <th>Boat Type</th>\n",
       "      <th>Manufacturer</th>\n",
       "      <th>Type</th>\n",
       "      <th>Year Built</th>\n",
       "      <th>Length</th>\n",
       "      <th>Width</th>\n",
       "      <th>Material</th>\n",
       "      <th>Location</th>\n",
       "      <th>Number of views last 7 days</th>\n",
       "    </tr>\n",
       "  </thead>\n",
       "  <tbody>\n",
       "    <tr>\n",
       "      <th>0</th>\n",
       "      <td>CHF 3337</td>\n",
       "      <td>Motor Yacht</td>\n",
       "      <td>Rigiflex power boats</td>\n",
       "      <td>new boat from stock</td>\n",
       "      <td>2017</td>\n",
       "      <td>4.00</td>\n",
       "      <td>1.90</td>\n",
       "      <td>NaN</td>\n",
       "      <td>Switzerland Â» Lake Geneva Â» VÃ©senaz</td>\n",
       "      <td>226</td>\n",
       "    </tr>\n",
       "    <tr>\n",
       "      <th>1</th>\n",
       "      <td>EUR 3490</td>\n",
       "      <td>Center console boat</td>\n",
       "      <td>Terhi power boats</td>\n",
       "      <td>new boat from stock</td>\n",
       "      <td>2020</td>\n",
       "      <td>4.00</td>\n",
       "      <td>1.50</td>\n",
       "      <td>Thermoplastic</td>\n",
       "      <td>Germany Â» BÃ¶nningstedt</td>\n",
       "      <td>75</td>\n",
       "    </tr>\n",
       "    <tr>\n",
       "      <th>2</th>\n",
       "      <td>CHF 3770</td>\n",
       "      <td>Sport Boat</td>\n",
       "      <td>Marine power boats</td>\n",
       "      <td>new boat from stock</td>\n",
       "      <td>0</td>\n",
       "      <td>3.69</td>\n",
       "      <td>1.42</td>\n",
       "      <td>Aluminium</td>\n",
       "      <td>Switzerland Â» Lake of Zurich Â» StÃ¤fa ZH</td>\n",
       "      <td>124</td>\n",
       "    </tr>\n",
       "    <tr>\n",
       "      <th>3</th>\n",
       "      <td>DKK 25900</td>\n",
       "      <td>Sport Boat</td>\n",
       "      <td>Pioner power boats</td>\n",
       "      <td>new boat from stock</td>\n",
       "      <td>2020</td>\n",
       "      <td>3.00</td>\n",
       "      <td>1.00</td>\n",
       "      <td>NaN</td>\n",
       "      <td>Denmark Â» Svendborg</td>\n",
       "      <td>64</td>\n",
       "    </tr>\n",
       "    <tr>\n",
       "      <th>4</th>\n",
       "      <td>EUR 3399</td>\n",
       "      <td>Fishing Boat</td>\n",
       "      <td>Linder power boats</td>\n",
       "      <td>new boat from stock</td>\n",
       "      <td>2019</td>\n",
       "      <td>3.55</td>\n",
       "      <td>1.46</td>\n",
       "      <td>Aluminium</td>\n",
       "      <td>Germany Â» Bayern Â» MÃ¼nchen</td>\n",
       "      <td>58</td>\n",
       "    </tr>\n",
       "  </tbody>\n",
       "</table>\n",
       "</div>"
      ],
      "text/plain": [
       "       Price            Boat Type          Manufacturer                 Type  \\\n",
       "0   CHF 3337          Motor Yacht  Rigiflex power boats  new boat from stock   \n",
       "1   EUR 3490  Center console boat     Terhi power boats  new boat from stock   \n",
       "2   CHF 3770           Sport Boat    Marine power boats  new boat from stock   \n",
       "3  DKK 25900           Sport Boat    Pioner power boats  new boat from stock   \n",
       "4   EUR 3399         Fishing Boat    Linder power boats  new boat from stock   \n",
       "\n",
       "   Year Built  Length  Width       Material  \\\n",
       "0        2017    4.00   1.90            NaN   \n",
       "1        2020    4.00   1.50  Thermoplastic   \n",
       "2           0    3.69   1.42      Aluminium   \n",
       "3        2020    3.00   1.00            NaN   \n",
       "4        2019    3.55   1.46      Aluminium   \n",
       "\n",
       "                                     Location  Number of views last 7 days  \n",
       "0      Switzerland Â» Lake Geneva Â» VÃ©senaz                          226  \n",
       "1                    Germany Â» BÃ¶nningstedt                           75  \n",
       "2  Switzerland Â» Lake of Zurich Â» StÃ¤fa ZH                          124  \n",
       "3                        Denmark Â» Svendborg                           64  \n",
       "4               Germany Â» Bayern Â» MÃ¼nchen                           58  "
      ]
     },
     "execution_count": 317,
     "metadata": {},
     "output_type": "execute_result"
    }
   ],
   "source": [
    "df = pd.read_csv('https://s3.amazonaws.com/talent-assets.datacamp.com/boat_data.csv')\n",
    "df.head()"
   ]
  },
  {
   "cell_type": "code",
   "execution_count": 318,
   "metadata": {},
   "outputs": [
    {
     "name": "stdout",
     "output_type": "stream",
     "text": [
      "<class 'pandas.core.frame.DataFrame'>\n",
      "RangeIndex: 9888 entries, 0 to 9887\n",
      "Data columns (total 10 columns):\n",
      " #   Column                       Non-Null Count  Dtype  \n",
      "---  ------                       --------------  -----  \n",
      " 0   Price                        9888 non-null   object \n",
      " 1   Boat Type                    9888 non-null   object \n",
      " 2   Manufacturer                 8550 non-null   object \n",
      " 3   Type                         9882 non-null   object \n",
      " 4   Year Built                   9888 non-null   int64  \n",
      " 5   Length                       9879 non-null   float64\n",
      " 6   Width                        9832 non-null   float64\n",
      " 7   Material                     8139 non-null   object \n",
      " 8   Location                     9852 non-null   object \n",
      " 9   Number of views last 7 days  9888 non-null   int64  \n",
      "dtypes: float64(2), int64(2), object(6)\n",
      "memory usage: 772.6+ KB\n"
     ]
    }
   ],
   "source": [
    "df.info()"
   ]
  },
  {
   "cell_type": "markdown",
   "metadata": {},
   "source": [
    "### Data cleaning"
   ]
  },
  {
   "cell_type": "markdown",
   "metadata": {},
   "source": [
    "#### Drop columns with missing values"
   ]
  },
  {
   "cell_type": "markdown",
   "metadata": {},
   "source": [
    "There are multiple missing values in the following columns that need to be addressed. I will drop them from the dataset as they are not a lot and filling them with estimations can compromise the conclusions."
   ]
  },
  {
   "cell_type": "code",
   "execution_count": 319,
   "metadata": {},
   "outputs": [
    {
     "name": "stdout",
     "output_type": "stream",
     "text": [
      "<class 'pandas.core.frame.DataFrame'>\n",
      "Int64Index: 9796 entries, 0 to 9887\n",
      "Data columns (total 10 columns):\n",
      " #   Column                       Non-Null Count  Dtype  \n",
      "---  ------                       --------------  -----  \n",
      " 0   Price                        9796 non-null   object \n",
      " 1   Boat Type                    9796 non-null   object \n",
      " 2   Manufacturer                 8480 non-null   object \n",
      " 3   Type                         9790 non-null   object \n",
      " 4   Year Built                   9796 non-null   int64  \n",
      " 5   Length                       9796 non-null   float64\n",
      " 6   Width                        9796 non-null   float64\n",
      " 7   Material                     8079 non-null   object \n",
      " 8   Location                     9796 non-null   object \n",
      " 9   Number of views last 7 days  9796 non-null   int64  \n",
      "dtypes: float64(2), int64(2), object(6)\n",
      "memory usage: 841.8+ KB\n"
     ]
    }
   ],
   "source": [
    "df = df.dropna(subset=['Length', 'Width', 'Location'])\n",
    "df.info()"
   ]
  },
  {
   "cell_type": "markdown",
   "metadata": {},
   "source": [
    "#### Convert all prices to euros"
   ]
  },
  {
   "cell_type": "markdown",
   "metadata": {},
   "source": [
    "The next step is to normalize the currency. We have data in Euros, Danish Kroner, British Pounds and Swiss Francs. It is important to convert them to one universal currency, Euros in this case. For that, I will take the current exchange rate at the day I'm writing this notebook (December 7th, 2021). "
   ]
  },
  {
   "cell_type": "code",
   "execution_count": 320,
   "metadata": {},
   "outputs": [],
   "source": [
    "# Get the currency type and its price\n",
    "df['Currency'] = df['Price'].apply(lambda x: x.split(' ')[0])\n",
    "df['Amount'] = df['Price'].apply(lambda x: x.split(' ')[1]).astype('int')\n",
    "\n",
    "# Currency to euro exchange at 11:30AM of December 7th, 2021\n",
    "exchange= {'CHF': 0.96, 'Â£': 1.17, 'DKK': 0.13, 'EUR': 1}\n",
    "\n",
    "# Replace the currency values for the dictionary and calculate the new ones.\n",
    "df['Exchange_EUR'] = df['Currency'].replace(exchange)\n",
    "df['Price_EUR'] = df['Amount'] * df['Exchange_EUR']"
   ]
  },
  {
   "cell_type": "markdown",
   "metadata": {},
   "source": [
    "#### Prepare the data for visualization\n",
    "\n",
    "In this step, I will prepare the data for the visualizations by filtering a part of the dataframe. I have decided to take the 80 most seen ads in the last 7 days. Why? Because it represents 1% of the total observations but almost 7% of the views."
   ]
  },
  {
   "cell_type": "code",
   "execution_count": 321,
   "metadata": {},
   "outputs": [
    {
     "name": "stdout",
     "output_type": "stream",
     "text": [
      "6.575633281911182 %\n"
     ]
    }
   ],
   "source": [
    "# Percentage of views by the top 1% of observations\n",
    "print(df.sort_values('Number of views last 7 days', ascending=False)['Number of views last 7 days'].iloc[0:80].sum() / df['Number of views last 7 days'].sum() * 100,  '%')"
   ]
  },
  {
   "cell_type": "markdown",
   "metadata": {},
   "source": [
    "Let's create a new dataframe with the 80 most seen ads and drop the columns that are not needed for the analysis and check the first five values."
   ]
  },
  {
   "cell_type": "code",
   "execution_count": 322,
   "metadata": {},
   "outputs": [
    {
     "data": {
      "text/html": [
       "<div>\n",
       "<style scoped>\n",
       "    .dataframe tbody tr th:only-of-type {\n",
       "        vertical-align: middle;\n",
       "    }\n",
       "\n",
       "    .dataframe tbody tr th {\n",
       "        vertical-align: top;\n",
       "    }\n",
       "\n",
       "    .dataframe thead th {\n",
       "        text-align: right;\n",
       "    }\n",
       "</style>\n",
       "<table border=\"1\" class=\"dataframe\">\n",
       "  <thead>\n",
       "    <tr style=\"text-align: right;\">\n",
       "      <th></th>\n",
       "      <th>Boat Type</th>\n",
       "      <th>Manufacturer</th>\n",
       "      <th>Type</th>\n",
       "      <th>Year Built</th>\n",
       "      <th>Length</th>\n",
       "      <th>Width</th>\n",
       "      <th>Material</th>\n",
       "      <th>Location</th>\n",
       "      <th>Number of views last 7 days</th>\n",
       "      <th>Price_EUR</th>\n",
       "    </tr>\n",
       "  </thead>\n",
       "  <tbody>\n",
       "    <tr>\n",
       "      <th>9580</th>\n",
       "      <td>Motor Yacht</td>\n",
       "      <td>Bayliner power boats</td>\n",
       "      <td>Used boat,Unleaded</td>\n",
       "      <td>1992</td>\n",
       "      <td>7.70</td>\n",
       "      <td>2.46</td>\n",
       "      <td>Plastic</td>\n",
       "      <td>Switzerland Â» Le Landeron (NE)</td>\n",
       "      <td>3263</td>\n",
       "      <td>14304.0</td>\n",
       "    </tr>\n",
       "    <tr>\n",
       "      <th>8723</th>\n",
       "      <td>Hardtop</td>\n",
       "      <td>Princess power boats</td>\n",
       "      <td>Used boat,Diesel</td>\n",
       "      <td>1979</td>\n",
       "      <td>11.12</td>\n",
       "      <td>3.88</td>\n",
       "      <td>GRP</td>\n",
       "      <td>Switzerland Â» Neuenburgersee Â» Hauterive</td>\n",
       "      <td>2432</td>\n",
       "      <td>33600.0</td>\n",
       "    </tr>\n",
       "    <tr>\n",
       "      <th>6211</th>\n",
       "      <td>Bowrider,Motor Yacht,Sport Boat</td>\n",
       "      <td>Windy power boats</td>\n",
       "      <td>Used boat,Diesel</td>\n",
       "      <td>2002</td>\n",
       "      <td>12.35</td>\n",
       "      <td>3.48</td>\n",
       "      <td>GRP</td>\n",
       "      <td>Switzerland Â» Lago Maggiore Â» 6600 Locarno</td>\n",
       "      <td>2261</td>\n",
       "      <td>120864.0</td>\n",
       "    </tr>\n",
       "    <tr>\n",
       "      <th>3700</th>\n",
       "      <td>Hardtop</td>\n",
       "      <td>Pershing power boats</td>\n",
       "      <td>Used boat,Diesel</td>\n",
       "      <td>2009</td>\n",
       "      <td>20.30</td>\n",
       "      <td>5.20</td>\n",
       "      <td>GRP</td>\n",
       "      <td>Neustadt in Holstein (Ostsee)</td>\n",
       "      <td>2154</td>\n",
       "      <td>949000.0</td>\n",
       "    </tr>\n",
       "    <tr>\n",
       "      <th>308</th>\n",
       "      <td>Sport Boat</td>\n",
       "      <td>Sea Ray power boats</td>\n",
       "      <td>Used boat,Unleaded</td>\n",
       "      <td>1993</td>\n",
       "      <td>6.14</td>\n",
       "      <td>2.34</td>\n",
       "      <td>Plastic</td>\n",
       "      <td>Switzerland Â» Murtensee Â» Avenches</td>\n",
       "      <td>2026</td>\n",
       "      <td>19104.0</td>\n",
       "    </tr>\n",
       "  </tbody>\n",
       "</table>\n",
       "</div>"
      ],
      "text/plain": [
       "                            Boat Type          Manufacturer  \\\n",
       "9580                      Motor Yacht  Bayliner power boats   \n",
       "8723                          Hardtop  Princess power boats   \n",
       "6211  Bowrider,Motor Yacht,Sport Boat     Windy power boats   \n",
       "3700                          Hardtop  Pershing power boats   \n",
       "308                        Sport Boat   Sea Ray power boats   \n",
       "\n",
       "                    Type  Year Built  Length  Width Material  \\\n",
       "9580  Used boat,Unleaded        1992    7.70   2.46  Plastic   \n",
       "8723    Used boat,Diesel        1979   11.12   3.88      GRP   \n",
       "6211    Used boat,Diesel        2002   12.35   3.48      GRP   \n",
       "3700    Used boat,Diesel        2009   20.30   5.20      GRP   \n",
       "308   Used boat,Unleaded        1993    6.14   2.34  Plastic   \n",
       "\n",
       "                                           Location  \\\n",
       "9580                Switzerland Â» Le Landeron (NE)   \n",
       "8723     Switzerland Â» Neuenburgersee Â» Hauterive   \n",
       "6211  Switzerland Â» Lago Maggiore Â» 6600 Locarno    \n",
       "3700                  Neustadt in Holstein (Ostsee)   \n",
       "308            Switzerland Â» Murtensee Â» Avenches   \n",
       "\n",
       "      Number of views last 7 days  Price_EUR  \n",
       "9580                         3263    14304.0  \n",
       "8723                         2432    33600.0  \n",
       "6211                         2261   120864.0  \n",
       "3700                         2154   949000.0  \n",
       "308                          2026    19104.0  "
      ]
     },
     "execution_count": 322,
     "metadata": {},
     "output_type": "execute_result"
    }
   ],
   "source": [
    "# Get 80 most seen ads\n",
    "fdf = df.sort_values('Number of views last 7 days', ascending=False).iloc[0:80]\n",
    "\n",
    "# Drop unnecessary columns\n",
    "cols_drop = ['Price', 'Currency', 'Amount', 'Exchange_EUR']\n",
    "fdf = fdf.drop(columns=cols_drop)\n",
    "\n",
    "fdf.head()"
   ]
  },
  {
   "cell_type": "markdown",
   "metadata": {},
   "source": [
    "Another important thing to do before describing the dataset is check for wrong data, like the year built. In some cases, the observation is not missing but it is filled with a 0. This can compromise the analysis, i.e, the mean. "
   ]
  },
  {
   "cell_type": "code",
   "execution_count": 323,
   "metadata": {},
   "outputs": [
    {
     "data": {
      "text/html": [
       "<div>\n",
       "<style scoped>\n",
       "    .dataframe tbody tr th:only-of-type {\n",
       "        vertical-align: middle;\n",
       "    }\n",
       "\n",
       "    .dataframe tbody tr th {\n",
       "        vertical-align: top;\n",
       "    }\n",
       "\n",
       "    .dataframe thead th {\n",
       "        text-align: right;\n",
       "    }\n",
       "</style>\n",
       "<table border=\"1\" class=\"dataframe\">\n",
       "  <thead>\n",
       "    <tr style=\"text-align: right;\">\n",
       "      <th></th>\n",
       "      <th>Boat Type</th>\n",
       "      <th>Manufacturer</th>\n",
       "      <th>Type</th>\n",
       "      <th>Year Built</th>\n",
       "      <th>Length</th>\n",
       "      <th>Width</th>\n",
       "      <th>Material</th>\n",
       "      <th>Location</th>\n",
       "      <th>Number of views last 7 days</th>\n",
       "      <th>Price_EUR</th>\n",
       "    </tr>\n",
       "  </thead>\n",
       "  <tbody>\n",
       "  </tbody>\n",
       "</table>\n",
       "</div>"
      ],
      "text/plain": [
       "Empty DataFrame\n",
       "Columns: [Boat Type, Manufacturer, Type, Year Built, Length, Width, Material, Location, Number of views last 7 days, Price_EUR]\n",
       "Index: []"
      ]
     },
     "execution_count": 323,
     "metadata": {},
     "output_type": "execute_result"
    }
   ],
   "source": [
    "fdf[fdf['Year Built'] == 0]"
   ]
  },
  {
   "cell_type": "markdown",
   "metadata": {},
   "source": [
    "As they are not any wrong observations, we can proceed to describe the dataset and compare it to the not filtered one."
   ]
  },
  {
   "cell_type": "code",
   "execution_count": 324,
   "metadata": {},
   "outputs": [
    {
     "data": {
      "text/html": [
       "<div>\n",
       "<style scoped>\n",
       "    .dataframe tbody tr th:only-of-type {\n",
       "        vertical-align: middle;\n",
       "    }\n",
       "\n",
       "    .dataframe tbody tr th {\n",
       "        vertical-align: top;\n",
       "    }\n",
       "\n",
       "    .dataframe thead th {\n",
       "        text-align: right;\n",
       "    }\n",
       "</style>\n",
       "<table border=\"1\" class=\"dataframe\">\n",
       "  <thead>\n",
       "    <tr style=\"text-align: right;\">\n",
       "      <th></th>\n",
       "      <th>Year Built</th>\n",
       "      <th>Length</th>\n",
       "      <th>Width</th>\n",
       "      <th>Number of views last 7 days</th>\n",
       "      <th>Price_EUR</th>\n",
       "    </tr>\n",
       "  </thead>\n",
       "  <tbody>\n",
       "    <tr>\n",
       "      <th>count</th>\n",
       "      <td>80.000000</td>\n",
       "      <td>80.000000</td>\n",
       "      <td>80.000000</td>\n",
       "      <td>80.000000</td>\n",
       "      <td>8.000000e+01</td>\n",
       "    </tr>\n",
       "    <tr>\n",
       "      <th>mean</th>\n",
       "      <td>1997.875000</td>\n",
       "      <td>9.827250</td>\n",
       "      <td>3.129000</td>\n",
       "      <td>1202.562500</td>\n",
       "      <td>5.588343e+05</td>\n",
       "    </tr>\n",
       "    <tr>\n",
       "      <th>std</th>\n",
       "      <td>20.194231</td>\n",
       "      <td>7.171601</td>\n",
       "      <td>1.474371</td>\n",
       "      <td>445.153276</td>\n",
       "      <td>3.511859e+06</td>\n",
       "    </tr>\n",
       "    <tr>\n",
       "      <th>min</th>\n",
       "      <td>1901.000000</td>\n",
       "      <td>3.350000</td>\n",
       "      <td>1.550000</td>\n",
       "      <td>859.000000</td>\n",
       "      <td>3.648000e+03</td>\n",
       "    </tr>\n",
       "    <tr>\n",
       "      <th>25%</th>\n",
       "      <td>1989.000000</td>\n",
       "      <td>6.300000</td>\n",
       "      <td>2.355000</td>\n",
       "      <td>895.000000</td>\n",
       "      <td>2.133600e+04</td>\n",
       "    </tr>\n",
       "    <tr>\n",
       "      <th>50%</th>\n",
       "      <td>2003.000000</td>\n",
       "      <td>7.500000</td>\n",
       "      <td>2.590000</td>\n",
       "      <td>1019.000000</td>\n",
       "      <td>4.628000e+04</td>\n",
       "    </tr>\n",
       "    <tr>\n",
       "      <th>75%</th>\n",
       "      <td>2011.250000</td>\n",
       "      <td>11.030000</td>\n",
       "      <td>3.457500</td>\n",
       "      <td>1327.000000</td>\n",
       "      <td>9.340000e+04</td>\n",
       "    </tr>\n",
       "    <tr>\n",
       "      <th>max</th>\n",
       "      <td>2020.000000</td>\n",
       "      <td>54.400000</td>\n",
       "      <td>9.950000</td>\n",
       "      <td>3263.000000</td>\n",
       "      <td>3.100000e+07</td>\n",
       "    </tr>\n",
       "  </tbody>\n",
       "</table>\n",
       "</div>"
      ],
      "text/plain": [
       "        Year Built     Length      Width  Number of views last 7 days  \\\n",
       "count    80.000000  80.000000  80.000000                    80.000000   \n",
       "mean   1997.875000   9.827250   3.129000                  1202.562500   \n",
       "std      20.194231   7.171601   1.474371                   445.153276   \n",
       "min    1901.000000   3.350000   1.550000                   859.000000   \n",
       "25%    1989.000000   6.300000   2.355000                   895.000000   \n",
       "50%    2003.000000   7.500000   2.590000                  1019.000000   \n",
       "75%    2011.250000  11.030000   3.457500                  1327.000000   \n",
       "max    2020.000000  54.400000   9.950000                  3263.000000   \n",
       "\n",
       "          Price_EUR  \n",
       "count  8.000000e+01  \n",
       "mean   5.588343e+05  \n",
       "std    3.511859e+06  \n",
       "min    3.648000e+03  \n",
       "25%    2.133600e+04  \n",
       "50%    4.628000e+04  \n",
       "75%    9.340000e+04  \n",
       "max    3.100000e+07  "
      ]
     },
     "execution_count": 324,
     "metadata": {},
     "output_type": "execute_result"
    }
   ],
   "source": [
    "fdf.describe()"
   ]
  },
  {
   "cell_type": "code",
   "execution_count": 325,
   "metadata": {},
   "outputs": [
    {
     "data": {
      "text/html": [
       "<div>\n",
       "<style scoped>\n",
       "    .dataframe tbody tr th:only-of-type {\n",
       "        vertical-align: middle;\n",
       "    }\n",
       "\n",
       "    .dataframe tbody tr th {\n",
       "        vertical-align: top;\n",
       "    }\n",
       "\n",
       "    .dataframe thead th {\n",
       "        text-align: right;\n",
       "    }\n",
       "</style>\n",
       "<table border=\"1\" class=\"dataframe\">\n",
       "  <thead>\n",
       "    <tr style=\"text-align: right;\">\n",
       "      <th></th>\n",
       "      <th>Year Built</th>\n",
       "      <th>Length</th>\n",
       "      <th>Width</th>\n",
       "      <th>Number of views last 7 days</th>\n",
       "      <th>Amount</th>\n",
       "      <th>Exchange_EUR</th>\n",
       "      <th>Price_EUR</th>\n",
       "    </tr>\n",
       "  </thead>\n",
       "  <tbody>\n",
       "    <tr>\n",
       "      <th>count</th>\n",
       "      <td>9246.000000</td>\n",
       "      <td>9246.000000</td>\n",
       "      <td>9246.000000</td>\n",
       "      <td>9246.000000</td>\n",
       "      <td>9.246000e+03</td>\n",
       "      <td>9246.000000</td>\n",
       "      <td>9.246000e+03</td>\n",
       "    </tr>\n",
       "    <tr>\n",
       "      <th>mean</th>\n",
       "      <td>2004.920182</td>\n",
       "      <td>11.717422</td>\n",
       "      <td>3.552256</td>\n",
       "      <td>150.430997</td>\n",
       "      <td>3.202397e+05</td>\n",
       "      <td>0.985180</td>\n",
       "      <td>3.019198e+05</td>\n",
       "    </tr>\n",
       "    <tr>\n",
       "      <th>std</th>\n",
       "      <td>16.406383</td>\n",
       "      <td>6.000273</td>\n",
       "      <td>1.212540</td>\n",
       "      <td>155.088437</td>\n",
       "      <td>9.790044e+05</td>\n",
       "      <td>0.122769</td>\n",
       "      <td>9.400324e+05</td>\n",
       "    </tr>\n",
       "    <tr>\n",
       "      <th>min</th>\n",
       "      <td>1885.000000</td>\n",
       "      <td>1.040000</td>\n",
       "      <td>0.010000</td>\n",
       "      <td>13.000000</td>\n",
       "      <td>3.300000e+03</td>\n",
       "      <td>0.130000</td>\n",
       "      <td>3.203520e+03</td>\n",
       "    </tr>\n",
       "    <tr>\n",
       "      <th>25%</th>\n",
       "      <td>1999.000000</td>\n",
       "      <td>7.560000</td>\n",
       "      <td>2.550000</td>\n",
       "      <td>70.000000</td>\n",
       "      <td>4.500000e+04</td>\n",
       "      <td>1.000000</td>\n",
       "      <td>4.450000e+04</td>\n",
       "    </tr>\n",
       "    <tr>\n",
       "      <th>50%</th>\n",
       "      <td>2008.000000</td>\n",
       "      <td>10.500000</td>\n",
       "      <td>3.380000</td>\n",
       "      <td>108.000000</td>\n",
       "      <td>9.800000e+04</td>\n",
       "      <td>1.000000</td>\n",
       "      <td>9.500000e+04</td>\n",
       "    </tr>\n",
       "    <tr>\n",
       "      <th>75%</th>\n",
       "      <td>2018.000000</td>\n",
       "      <td>14.000000</td>\n",
       "      <td>4.260000</td>\n",
       "      <td>172.000000</td>\n",
       "      <td>2.590000e+05</td>\n",
       "      <td>1.000000</td>\n",
       "      <td>2.490000e+05</td>\n",
       "    </tr>\n",
       "    <tr>\n",
       "      <th>max</th>\n",
       "      <td>2021.000000</td>\n",
       "      <td>100.000000</td>\n",
       "      <td>25.160000</td>\n",
       "      <td>3263.000000</td>\n",
       "      <td>3.100000e+07</td>\n",
       "      <td>1.170000</td>\n",
       "      <td>3.100000e+07</td>\n",
       "    </tr>\n",
       "  </tbody>\n",
       "</table>\n",
       "</div>"
      ],
      "text/plain": [
       "        Year Built       Length        Width  Number of views last 7 days  \\\n",
       "count  9246.000000  9246.000000  9246.000000                  9246.000000   \n",
       "mean   2004.920182    11.717422     3.552256                   150.430997   \n",
       "std      16.406383     6.000273     1.212540                   155.088437   \n",
       "min    1885.000000     1.040000     0.010000                    13.000000   \n",
       "25%    1999.000000     7.560000     2.550000                    70.000000   \n",
       "50%    2008.000000    10.500000     3.380000                   108.000000   \n",
       "75%    2018.000000    14.000000     4.260000                   172.000000   \n",
       "max    2021.000000   100.000000    25.160000                  3263.000000   \n",
       "\n",
       "             Amount  Exchange_EUR     Price_EUR  \n",
       "count  9.246000e+03   9246.000000  9.246000e+03  \n",
       "mean   3.202397e+05      0.985180  3.019198e+05  \n",
       "std    9.790044e+05      0.122769  9.400324e+05  \n",
       "min    3.300000e+03      0.130000  3.203520e+03  \n",
       "25%    4.500000e+04      1.000000  4.450000e+04  \n",
       "50%    9.800000e+04      1.000000  9.500000e+04  \n",
       "75%    2.590000e+05      1.000000  2.490000e+05  \n",
       "max    3.100000e+07      1.170000  3.100000e+07  "
      ]
     },
     "execution_count": 325,
     "metadata": {},
     "output_type": "execute_result"
    }
   ],
   "source": [
    "df[df['Year Built'] != 0].describe()"
   ]
  },
  {
   "cell_type": "markdown",
   "metadata": {},
   "source": [
    "We can get some valuable information from the table above:\n",
    "\n",
    "* The average boat in the top listed ads is older (1997 vs 2005)\n",
    "* This boat is also smaller in length and width.\n",
    "* And the most important one, it is a little bit cheaper than the median of the whole set.\n",
    "\n",
    "Let's perform some visual analysis to check out our hypotheses. "
   ]
  },
  {
   "cell_type": "markdown",
   "metadata": {},
   "source": [
    "## Data visualization"
   ]
  },
  {
   "cell_type": "markdown",
   "metadata": {},
   "source": [
    "Let's start by setting up the seaborn settings we will use for the analysis."
   ]
  },
  {
   "cell_type": "code",
   "execution_count": 377,
   "metadata": {},
   "outputs": [],
   "source": [
    "sns.set_palette('Blues_r')"
   ]
  },
  {
   "cell_type": "markdown",
   "metadata": {},
   "source": [
    "#### Do the most expensive boats get the most views?\n",
    "\n",
    "This is probably the main question that may arise from the dataset. It is reasonable to think that more expensive boats will receive move views. Let's check it out by drawing a scatterplot."
   ]
  },
  {
   "cell_type": "code",
   "execution_count": 511,
   "metadata": {},
   "outputs": [
    {
     "data": {
      "image/png": "[encoded data removed]",
      "text/plain": [
       "<Figure size 576x576 with 1 Axes>"
      ]
     },
     "metadata": {},
     "output_type": "display_data"
    }
   ],
   "source": [
    "fig, ax = plt.subplots(figsize=[8,8])\n",
    "\n",
    "sns.set_style('whitegrid')\n",
    "\n",
    "g = sns.regplot(data=df, x='Number of views last 7 days', y='Price_EUR', color='#71B8DF', truncate=False)\n",
    "ax.set_ylabel('Price (in million euros)')\n",
    "ax.set_xlabel('Number of views last 7 days')\n",
    "ax.set_title('Relation between price and number of views', fontsize=20)\n",
    "\n",
    "sns.despine()\n",
    "\n",
    "plt.savefig('slides/images/prices.png', transparent=True, bbox_inches=\"tight\", dpi=440)\n",
    "\n",
    "plt.show()"
   ]
  },
  {
   "cell_type": "markdown",
   "metadata": {},
   "source": [
    "As the graph shows, there is not any relation between the number of views and the price. This means that the most expensive boats are not getting the majority of attention and it makes sense. People may want to see expensive and overpriced boats but it is not functional. Majority of them cannot afford them so they search for more affordable boats. Let's check if the size or the year they were built make any difference."
   ]
  },
  {
   "cell_type": "markdown",
   "metadata": {},
   "source": [
    "#### Does the newer boats make the top of the list?\n",
    "\n",
    "Another question that may arise is the age of the boats listed at the top. Are they old? Are they new? How they compare to the average of the whole dataset? Let's find out."
   ]
  },
  {
   "cell_type": "code",
   "execution_count": 513,
   "metadata": {},
   "outputs": [
    {
     "data": {
      "image/png": "[encoded data removed]",
      "text/plain": [
       "<Figure size 576x576 with 1 Axes>"
      ]
     },
     "metadata": {},
     "output_type": "display_data"
    }
   ],
   "source": [
    "fig, ax = plt.subplots(figsize=[8,8])\n",
    "\n",
    "sns.set_style('white')\n",
    "\n",
    "g = sns.histplot(data=fdf, x='Year Built', color='#71B8DF')\n",
    "ax.set_title('When were the most viewed ships built?', fontsize=20)\n",
    "\n",
    "# Plot the median of the dataframe\n",
    "x_line = df[df['Year Built'] != 0]['Year Built'].median()\n",
    "ax.axvline(x=x_line, color='#434343', linestyle='--', label='Median year of construction of listed boats')\n",
    "x_line2 = fdf[fdf['Year Built'] != 0]['Year Built'].median()\n",
    "ax.axvline(x=x_line2, color='#91662D', linestyle='-', label='Median year of construction of top listed boats')\n",
    "\n",
    "ax.legend()\n",
    "\n",
    "plt.savefig('slides/images/years.png', transparent=True, bbox_inches=\"tight\", dpi=440)\n",
    "\n",
    "plt.show()\n"
   ]
  },
  {
   "cell_type": "markdown",
   "metadata": {},
   "source": [
    "And, as we can see, the top 80 most viewed boats are pretty new, but not as new as the total. The median of the most viewed boats is 2003."
   ]
  },
  {
   "cell_type": "markdown",
   "metadata": {},
   "source": [
    "#### How does the size compare to the most viewed ads?\n",
    "\n",
    "Do users prefer bigger ships? Do the widest ships make the top of list? Let's find out."
   ]
  },
  {
   "cell_type": "code",
   "execution_count": 514,
   "metadata": {},
   "outputs": [
    {
     "data": {
      "image/png": "[encoded data removed]",
      "text/plain": [
       "<Figure size 1152x576 with 2 Axes>"
      ]
     },
     "metadata": {},
     "output_type": "display_data"
    }
   ],
   "source": [
    "fig, axs = plt.subplots(1, 2, figsize=[16,8])\n",
    "\n",
    "sns.set_style('white')\n",
    "\n",
    "fig.suptitle('How big are the most viewed ships?', fontsize=20)\n",
    "\n",
    "# Width\n",
    "sns.histplot(data=fdf, x='Width', color='#71B8DF', ax=axs[0])\n",
    "# Plot the median of the dataframe\n",
    "x_line = df[df['Year Built'] != 0]['Width'].median()\n",
    "axs[0].axvline(x=x_line, color='#434343', linestyle='--', label='Median year of construction of listed boats')\n",
    "x_line2 = fdf[fdf['Year Built'] != 0]['Width'].median()\n",
    "axs[0].axvline(x=x_line2, color='#91662D', linestyle='-', label='Median year of construction of top listed boats')\n",
    "axs[0].legend()\n",
    "\n",
    "# Length\n",
    "sns.histplot(data=fdf, x='Length', color='#71B8DF', ax=axs[1])\n",
    "axs[1].set_ylabel(None)\n",
    "# Plot the median of the dataframe\n",
    "x_line = df[df['Year Built'] != 0]['Length'].median()\n",
    "axs[1].axvline(x=x_line, color='#434343', linestyle='--', label='Median year of construction of listed boats')\n",
    "x_line2 = fdf[fdf['Year Built'] != 0]['Length'].median()\n",
    "axs[1].axvline(x=x_line2, color='#91662D', linestyle='-', label='Median year of construction of top listed boats')\n",
    "axs[1].legend()\n",
    "\n",
    "plt.savefig('slides/images/size.png', transparent=True, bbox_inches=\"tight\", dpi=440)\n",
    "\n",
    "plt.show()\n"
   ]
  },
  {
   "cell_type": "markdown",
   "metadata": {},
   "source": [
    "We can get some really important insights from this visualization. The most viewed boats are smaller than the average. The majority of them are 3 meters wide and 7.5 meters long. This means that people prefer smaller ships. And again, it makes sense. Smaller ships are more affordable."
   ]
  },
  {
   "cell_type": "markdown",
   "metadata": {},
   "source": [
    "#### Most common characteristics in the most viewed ships.\n",
    "\n",
    "In this part, I will try to analyze common characteristics of the most viewed ships like the material, the type of boat... Let's start with the type of boat. Will sports boats make the top of the list?\n",
    "\n",
    "_To make more accurate results, only the boat types with more than 1 occurrence are plotted in the graph._"
   ]
  },
  {
   "cell_type": "code",
   "execution_count": 515,
   "metadata": {},
   "outputs": [
    {
     "data": {
      "image/png": "[encoded data removed]",
      "text/plain": [
       "<Figure size 576x576 with 1 Axes>"
      ]
     },
     "metadata": {},
     "output_type": "display_data"
    }
   ],
   "source": [
    "# Define the dataframe to plot\n",
    "plot_df = fdf.groupby('Boat Type').filter(lambda x: len(x) > 1)\n",
    "\n",
    "# Plot the visualization \n",
    "sns.set_style('white')\n",
    "\n",
    "fig, ax = plt.subplots(figsize=[8,8])\n",
    "\n",
    "sns.countplot(data=plot_df, y='Boat Type', order=plot_df['Boat Type'].value_counts().index, palette='Blues_r')\n",
    "ax.set_title('Most common type of boat', fontsize=20)\n",
    "ax.set_ylabel(None)\n",
    "ax.set_xlabel('Count')\n",
    "\n",
    "sns.despine()\n",
    "\n",
    "plt.savefig('slides/images/types.png', transparent=True, bbox_inches=\"tight\", dpi=440)\n",
    "\n",
    "plt.show()\n"
   ]
  },
  {
   "cell_type": "markdown",
   "metadata": {},
   "source": [
    "And yes! Sports boats are the most popular ones on the site. This boats are small and cheap. People can afford them so its more likely to be on the top of the rank. Cabin boats are also small and affordable so, selling those type of boats, will give the users more chance of being visible. \n",
    "\n",
    "Now, let's check the materials of the boats. Is there one specific material that tops the list?"
   ]
  },
  {
   "cell_type": "code",
   "execution_count": 516,
   "metadata": {},
   "outputs": [
    {
     "data": {
      "image/png": "[encoded data removed]",
      "text/plain": [
       "<Figure size 576x576 with 1 Axes>"
      ]
     },
     "metadata": {},
     "output_type": "display_data"
    }
   ],
   "source": [
    "fig, ax = plt.subplots(figsize=[8, 8])\n",
    "\n",
    "sns.set_style('white')\n",
    "\n",
    "sns.countplot(data=fdf, y='Material', order=fdf['Material'].value_counts().index, palette='Blues_r')\n",
    "ax.set_title('Most common type of material', fontsize=20)\n",
    "ax.set_ylabel(None)\n",
    "ax.set_xlabel('Count')\n",
    "\n",
    "sns.despine()\n",
    "\n",
    "plt.savefig('slides/images/materials.png', transparent=True, bbox_inches=\"tight\", dpi=440)\n",
    "\n",
    "plt.show()"
   ]
  },
  {
   "cell_type": "markdown",
   "metadata": {},
   "source": [
    "And we have a winner! GRP boats are the most common material of boats! Pound for pound, GRP (also known as fiber glass), is lighter and stronger than aluminum or steel. Smaller boats are typically made of this so, its another reason to believe that smaller boats make the top of the list."
   ]
  },
  {
   "cell_type": "markdown",
   "metadata": {},
   "source": [
    "## Conclusion\n",
    "\n",
    "Here it comes! The part we were all waiting for...\n",
    "\n",
    "After analyzing the whole dataset with the objective of showing what are the common characteristics in the most viewed boats, we can conclude the following:\n",
    "\n",
    "* Cheaper boats make the top of the list.\n",
    "* Smaller boats as well.\n",
    "* Sports and cabin boats are the most common ones.\n",
    "* GRP is the most common material.\n",
    "\n",
    "Putting all previous insights together, we can say that announcing a well-priced boat, which is usually smaller, will give the user more probabilities of being visible than a big and expensive boat. People are using the website to buy sports and cabin boats, probably because they are more affordable than yatches."
   ]
  }
 ],
 "metadata": {
  "interpreter": {
   "hash": "7120908914c11a68fcb1dcf36e54e9899c6fb953e2e371b603c2cb2413cbf985"
  },
  "kernelspec": {
   "display_name": "Python 3.9.7 64-bit",
   "language": "python",
   "name": "python3"
  },
  "language_info": {
   "codemirror_mode": {
    "name": "ipython",
    "version": 3
   },
   "file_extension": ".py",
   "mimetype": "text/x-python",
   "name": "python",
   "nbconvert_exporter": "python",
   "pygments_lexer": "ipython3",
   "version": "3.9.7"
  },
  "orig_nbformat": 4
 },
 "nbformat": 4,
 "nbformat_minor": 2
}
