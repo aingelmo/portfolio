{
 "cells": [
  {
   "cell_type": "markdown",
   "id": "3cf314a8",
   "metadata": {},
   "source": [
    "# Non-Positional Encodings for Third Variables\n",
    "## Encoding via Shape"
   ]
  },
  {
   "cell_type": "code",
   "execution_count": null,
   "id": "b3cd5d1b",
   "metadata": {},
   "outputs": [],
   "source": [
    "cat_markers = [['A', 'o'],\n",
    "               ['B', 's']]\n",
    "\n",
    "for cat, marker in cat_markers:\n",
    "    df_cat = df[df['cat_var1'] == cat]\n",
    "    plt.scatter(data = df_cat, x = 'num_var1', y = 'num_var2', marker = marker)\n",
    "plt.legend(['A','B'])"
   ]
  },
  {
   "cell_type": "markdown",
   "id": "e05585ce",
   "metadata": {},
   "source": [
    "## Encoding via Size"
   ]
  },
  {
   "cell_type": "code",
   "execution_count": null,
   "id": "e685f150",
   "metadata": {},
   "outputs": [],
   "source": [
    "plt.scatter(data = df, x = 'num_var1', y = 'num_var2', s = 'num_var3')\n",
    "\n",
    "# dummy series for adding legend\n",
    "sizes = [20, 35, 50]\n",
    "base_color = sb.color_palette()[0]\n",
    "legend_obj = []\n",
    "for s in sizes:\n",
    "    legend_obj.append(plt.scatter([], [], s = s, color = base_color))\n",
    "plt.legend(legend_obj, sizes)"
   ]
  },
  {
   "cell_type": "markdown",
   "id": "558f01c1",
   "metadata": {},
   "source": [
    "# Color Palettes\n",
    "## Econding via Color"
   ]
  },
  {
   "cell_type": "code",
   "execution_count": null,
   "id": "1500a3d9",
   "metadata": {},
   "outputs": [],
   "source": [
    "# for qualitative variables\n",
    "g = sb.FacetGrid(data = df, hue = 'cat_var1', size = 5)\n",
    "g.map(plt.scatter, 'num_var1', 'num_var2')\n",
    "g.add_legend()"
   ]
  },
  {
   "cell_type": "code",
   "execution_count": null,
   "id": "d607bc58",
   "metadata": {},
   "outputs": [],
   "source": [
    "# for quantitative variables\n",
    "plt.scatter(data = df, x = 'num_var1', y = 'num_var2', c = 'num_var3')\n",
    "plt.colorbar()"
   ]
  },
  {
   "cell_type": "code",
   "execution_count": null,
   "id": "19a54217",
   "metadata": {},
   "outputs": [],
   "source": [
    "# qualitative color palette\n",
    "sb.palplot(sb.color_palette(n_colors=9))\n",
    "\n",
    "# sequential color palette\n",
    "sb.palplot(sb.color_palette('viridis', 9))\n",
    "\n",
    "# diverging color palette\n",
    "sb.palplot(sb.color_palette('vlag', 9))\n"
   ]
  },
  {
   "cell_type": "markdown",
   "id": "a7931973",
   "metadata": {},
   "source": [
    "# Faceting in two directions"
   ]
  },
  {
   "cell_type": "code",
   "execution_count": null,
   "id": "8b4bb34c",
   "metadata": {},
   "outputs": [],
   "source": [
    "#Boxplot\n",
    "g = sb.FacetGrid(data = df, col = 'cat_var1', size = 4)\n",
    "g.map(sb.boxplot, 'cat_var2', 'num_var2')"
   ]
  },
  {
   "cell_type": "code",
   "execution_count": null,
   "id": "9702ff65",
   "metadata": {},
   "outputs": [],
   "source": [
    "#Scatter\n",
    "g = sb.FacetGrid(data = df, col = 'cat_var2', row = 'cat_var1', size = 2.5,\n",
    "                margin_titles = True)\n",
    "g.map(plt.scatter, 'num_var1', 'num_var2');"
   ]
  },
  {
   "cell_type": "markdown",
   "id": "5eabe21f",
   "metadata": {},
   "source": [
    "# Adaptations of Bivariate Plots\n",
    "## 2-d histogram"
   ]
  },
  {
   "cell_type": "code",
   "execution_count": null,
   "id": "d78648a3",
   "metadata": {},
   "outputs": [],
   "source": [
    "xbin_edges = np.arange(0.25, df['num_var1'].max()+0.5, 0.5)\n",
    "ybin_edges = np.arange(7,    df['num_var2'].max()+0.5, 0.5)\n",
    "\n",
    "# count number of points in each bin\n",
    "xbin_idxs = pd.cut(df['num_var1'], xbin_edges, right = False,\n",
    "                    include_lowest = True, labels = False).astype(int)\n",
    "ybin_idxs = pd.cut(df['num_var2'], ybin_edges, right = False,\n",
    "                    include_lowest = True, labels = False).astype(int)\n",
    "\n",
    "pts_per_bin = df.groupby([xbin_idxs, ybin_idxs]).size()\n",
    "pts_per_bin = pts_per_bin.reset_index()\n",
    "pts_per_bin = pts_per_bin.pivot(index = 'num_var1', columns = 'num_var2').values\n",
    "\n",
    "z_wts = df['num_var3'] / pts_per_bin[xbin_idxs, ybin_idxs]\n",
    "\n",
    "# plot the data using the calculated weights\n",
    "plt.hist2d(data = df, x = 'num_var1', y = 'num_var2', weights = z_wts,\n",
    "           bins = [xbin_edges, ybin_edges], cmap = 'viridis_r', cmin = 0.5);\n",
    "plt.xlabel('num_var1')\n",
    "plt.ylabel('num_var2');\n",
    "plt.colorbar(label = 'mean(num_var3)');"
   ]
  },
  {
   "cell_type": "markdown",
   "id": "6146a127",
   "metadata": {},
   "source": [
    "## 2-d bar chart"
   ]
  },
  {
   "cell_type": "code",
   "execution_count": null,
   "id": "55e06063",
   "metadata": {},
   "outputs": [],
   "source": [
    "cat_means = df.groupby(['cat_var1', 'cat_var2']).mean()['num_var2']\n",
    "cat_means = cat_means.reset_index(name = 'num_var2_avg')\n",
    "cat_means = cat_means.pivot(index = 'cat_var2', columns = 'cat_var1',\n",
    "                            values = 'num_var2_avg')\n",
    "sb.heatmap(cat_means, annot = True, fmt = '.3f',\n",
    "           cbar_kws = {'label' : 'mean(num_var2)'})"
   ]
  },
  {
   "cell_type": "markdown",
   "id": "5dd39991",
   "metadata": {},
   "source": [
    "## Clustered bar chart"
   ]
  },
  {
   "cell_type": "code",
   "execution_count": null,
   "id": "0f7b198d",
   "metadata": {},
   "outputs": [],
   "source": [
    "ax = sb.barplot(data = df, x = 'cat_var1', y = 'num_var2', hue = 'cat_var2')\n",
    "ax.legend(loc = 8, ncol = 3, framealpha = 1, title = 'cat_var2')"
   ]
  },
  {
   "cell_type": "markdown",
   "id": "a90f84fb",
   "metadata": {},
   "source": [
    "## Boxplot, violinplot and pointplot"
   ]
  },
  {
   "cell_type": "code",
   "execution_count": null,
   "id": "e369c1a3",
   "metadata": {},
   "outputs": [],
   "source": [
    "ax = sb.pointplot(data = df, x = 'cat_var1', y = 'num_var2', hue = 'cat_var2',\n",
    "                  dodge = 0.3, linestyles = \"\")"
   ]
  },
  {
   "cell_type": "markdown",
   "id": "8460726b",
   "metadata": {},
   "source": [
    "## Line plot"
   ]
  },
  {
   "cell_type": "code",
   "execution_count": null,
   "id": "6c3337db",
   "metadata": {},
   "outputs": [],
   "source": [
    "def mean_poly(x, y, bins = 10, **kwargs):\n",
    "    \"\"\" Custom adapted line plot code. \"\"\"\n",
    "    # set bin edges if none or int specified\n",
    "    if type(bins) == int:\n",
    "        bins = np.linspace(x.min(), x.max(), bins+1)\n",
    "    bin_centers = (bin_edges[1:] + bin_edges[:-1]) / 2\n",
    "\n",
    "    # compute counts\n",
    "    data_bins = pd.cut(x, bins, right = False,\n",
    "                       include_lowest = True)\n",
    "    means = y.groupby(data_bins).mean()\n",
    "\n",
    "    # create plot\n",
    "    plt.errorbar(x = bin_centers, y = means, **kwargs)\n",
    "\n",
    "bin_edges = np.arange(0.25, df['num_var1'].max()+0.5, 0.5)\n",
    "g = sb.FacetGrid(data = df, hue = 'cat_var2', size = 5)\n",
    "g.map(mean_poly, \"num_var1\", \"num_var2\", bins = bin_edges)\n",
    "g.set_ylabels('mean(num_var2)')\n",
    "g.add_legend()"
   ]
  },
  {
   "cell_type": "markdown",
   "id": "5ddd50e1",
   "metadata": {},
   "source": [
    "# Plot Matrices"
   ]
  },
  {
   "cell_type": "code",
   "execution_count": null,
   "id": "167e0f81",
   "metadata": {},
   "outputs": [],
   "source": [
    "#PairGrid\n",
    "g = sb.PairGrid(data = df, vars = ['num_var1', 'num_var2', 'num_var3'])\n",
    "g.map_diag(plt.hist)\n",
    "g.map_offdiag(plt.scatter)"
   ]
  },
  {
   "cell_type": "code",
   "execution_count": null,
   "id": "ca6064a4",
   "metadata": {},
   "outputs": [],
   "source": [
    "#Violin Plot\n",
    "g = sb.PairGrid(data = df, x_vars = ['num_var1', 'num_var2', 'num_var3'],\n",
    "                y_vars = ['cat_var1','cat_var2'])\n",
    "g.map(sb.violinplot, inner = 'quartile')"
   ]
  },
  {
   "cell_type": "code",
   "execution_count": null,
   "id": "b86867a4",
   "metadata": {},
   "outputs": [],
   "source": [
    "#Correlation Matrices\n",
    "sb.heatmap(df.corr(), annot = True, fmt = '.2f', cmap = 'vlag_r', center = 0)"
   ]
  },
  {
   "cell_type": "code",
   "execution_count": null,
   "id": "766ffd18",
   "metadata": {},
   "outputs": [],
   "source": []
  }
 ],
 "metadata": {
  "kernelspec": {
   "display_name": "Python 3",
   "language": "python",
   "name": "python3"
  },
  "language_info": {
   "codemirror_mode": {
    "name": "ipython",
    "version": 3
   },
   "file_extension": ".py",
   "mimetype": "text/x-python",
   "name": "python",
   "nbconvert_exporter": "python",
   "pygments_lexer": "ipython3",
   "version": "3.8.8"
  }
 },
 "nbformat": 4,
 "nbformat_minor": 5
}
