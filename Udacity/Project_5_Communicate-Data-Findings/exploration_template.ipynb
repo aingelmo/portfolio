{
 "cells": [
  {
   "cell_type": "markdown",
   "metadata": {},
   "source": [
    "# Usage patterns in Ford GoBike bicycle sharing\n",
    "\n",
    "## by Andrés Ingelmo Poveda\n",
    "\n",
    "## Preliminary Wrangling\n",
    "\n",
    "This dataset includes information about individual rides made in a bike-sharing system covering the greater San Francisco area during the month of February 2019. Questions like \"how long does the average trip take\" or \"how does subscription status impacts in the results\" will be answered. "
   ]
  },
  {
   "cell_type": "code",
   "execution_count": 32,
   "metadata": {},
   "outputs": [],
   "source": [
    "# import all packages and set plots to be embedded inline\n",
    "import numpy as np\n",
    "import pandas as pd\n",
    "import matplotlib.pyplot as plt\n",
    "import seaborn as sb\n",
    "import os\n",
    "import requests\n",
    "\n",
    "%matplotlib inline"
   ]
  },
  {
   "cell_type": "code",
   "execution_count": 33,
   "metadata": {},
   "outputs": [],
   "source": [
    "url = \"https://video.udacity-data.com/topher/2020/October/5f91cf38_201902-fordgobike-tripdata/201902-fordgobike-tripdata.csv\"\n",
    "file = \"fordgobikedata.csv\"\n",
    "\n",
    "# Create a data folder\n",
    "try:\n",
    "    os.mkdir('data')\n",
    "except FileExistsError:\n",
    "    pass\n",
    "\n",
    "# Function to get the file from the cloud\n",
    "def get_file(url, file):\n",
    "    # Get the file from the cloud\n",
    "    content = requests.get(url).text\n",
    "    # Write the file into \"fordgobikedata.csv\"\n",
    "    with open('data/' + file, \"w\", encoding=\"utf-8\") as f:\n",
    "        f.write(content)\n",
    "        \n",
    "get_file(url, file)\n",
    "\n",
    "# Load the csv file into a pandas dataframe\n",
    "ford = pd.read_csv('data/fordgobikedata.csv')"
   ]
  },
  {
   "cell_type": "markdown",
   "metadata": {},
   "source": [
    "### What is the structure of your dataset?"
   ]
  },
  {
   "cell_type": "code",
   "execution_count": 34,
   "metadata": {},
   "outputs": [
    {
     "data": {
      "text/html": [
       "<div>\n",
       "<style scoped>\n",
       "    .dataframe tbody tr th:only-of-type {\n",
       "        vertical-align: middle;\n",
       "    }\n",
       "\n",
       "    .dataframe tbody tr th {\n",
       "        vertical-align: top;\n",
       "    }\n",
       "\n",
       "    .dataframe thead th {\n",
       "        text-align: right;\n",
       "    }\n",
       "</style>\n",
       "<table border=\"1\" class=\"dataframe\">\n",
       "  <thead>\n",
       "    <tr style=\"text-align: right;\">\n",
       "      <th></th>\n",
       "      <th>duration_sec</th>\n",
       "      <th>start_time</th>\n",
       "      <th>end_time</th>\n",
       "      <th>start_station_id</th>\n",
       "      <th>start_station_name</th>\n",
       "      <th>start_station_latitude</th>\n",
       "      <th>start_station_longitude</th>\n",
       "      <th>end_station_id</th>\n",
       "      <th>end_station_name</th>\n",
       "      <th>end_station_latitude</th>\n",
       "      <th>end_station_longitude</th>\n",
       "      <th>bike_id</th>\n",
       "      <th>user_type</th>\n",
       "      <th>member_birth_year</th>\n",
       "      <th>member_gender</th>\n",
       "      <th>bike_share_for_all_trip</th>\n",
       "    </tr>\n",
       "  </thead>\n",
       "  <tbody>\n",
       "    <tr>\n",
       "      <th>0</th>\n",
       "      <td>52185</td>\n",
       "      <td>2019-02-28 17:32:10.1450</td>\n",
       "      <td>2019-03-01 08:01:55.9750</td>\n",
       "      <td>21.0</td>\n",
       "      <td>Montgomery St BART Station (Market St at 2nd St)</td>\n",
       "      <td>37.789625</td>\n",
       "      <td>-122.400811</td>\n",
       "      <td>13.0</td>\n",
       "      <td>Commercial St at Montgomery St</td>\n",
       "      <td>37.794231</td>\n",
       "      <td>-122.402923</td>\n",
       "      <td>4902</td>\n",
       "      <td>Customer</td>\n",
       "      <td>1984.0</td>\n",
       "      <td>Male</td>\n",
       "      <td>No</td>\n",
       "    </tr>\n",
       "    <tr>\n",
       "      <th>1</th>\n",
       "      <td>42521</td>\n",
       "      <td>2019-02-28 18:53:21.7890</td>\n",
       "      <td>2019-03-01 06:42:03.0560</td>\n",
       "      <td>23.0</td>\n",
       "      <td>The Embarcadero at Steuart St</td>\n",
       "      <td>37.791464</td>\n",
       "      <td>-122.391034</td>\n",
       "      <td>81.0</td>\n",
       "      <td>Berry St at 4th St</td>\n",
       "      <td>37.775880</td>\n",
       "      <td>-122.393170</td>\n",
       "      <td>2535</td>\n",
       "      <td>Customer</td>\n",
       "      <td>NaN</td>\n",
       "      <td>NaN</td>\n",
       "      <td>No</td>\n",
       "    </tr>\n",
       "    <tr>\n",
       "      <th>2</th>\n",
       "      <td>61854</td>\n",
       "      <td>2019-02-28 12:13:13.2180</td>\n",
       "      <td>2019-03-01 05:24:08.1460</td>\n",
       "      <td>86.0</td>\n",
       "      <td>Market St at Dolores St</td>\n",
       "      <td>37.769305</td>\n",
       "      <td>-122.426826</td>\n",
       "      <td>3.0</td>\n",
       "      <td>Powell St BART Station (Market St at 4th St)</td>\n",
       "      <td>37.786375</td>\n",
       "      <td>-122.404904</td>\n",
       "      <td>5905</td>\n",
       "      <td>Customer</td>\n",
       "      <td>1972.0</td>\n",
       "      <td>Male</td>\n",
       "      <td>No</td>\n",
       "    </tr>\n",
       "    <tr>\n",
       "      <th>3</th>\n",
       "      <td>36490</td>\n",
       "      <td>2019-02-28 17:54:26.0100</td>\n",
       "      <td>2019-03-01 04:02:36.8420</td>\n",
       "      <td>375.0</td>\n",
       "      <td>Grove St at Masonic Ave</td>\n",
       "      <td>37.774836</td>\n",
       "      <td>-122.446546</td>\n",
       "      <td>70.0</td>\n",
       "      <td>Central Ave at Fell St</td>\n",
       "      <td>37.773311</td>\n",
       "      <td>-122.444293</td>\n",
       "      <td>6638</td>\n",
       "      <td>Subscriber</td>\n",
       "      <td>1989.0</td>\n",
       "      <td>Other</td>\n",
       "      <td>No</td>\n",
       "    </tr>\n",
       "    <tr>\n",
       "      <th>4</th>\n",
       "      <td>1585</td>\n",
       "      <td>2019-02-28 23:54:18.5490</td>\n",
       "      <td>2019-03-01 00:20:44.0740</td>\n",
       "      <td>7.0</td>\n",
       "      <td>Frank H Ogawa Plaza</td>\n",
       "      <td>37.804562</td>\n",
       "      <td>-122.271738</td>\n",
       "      <td>222.0</td>\n",
       "      <td>10th Ave at E 15th St</td>\n",
       "      <td>37.792714</td>\n",
       "      <td>-122.248780</td>\n",
       "      <td>4898</td>\n",
       "      <td>Subscriber</td>\n",
       "      <td>1974.0</td>\n",
       "      <td>Male</td>\n",
       "      <td>Yes</td>\n",
       "    </tr>\n",
       "  </tbody>\n",
       "</table>\n",
       "</div>"
      ],
      "text/plain": [
       "   duration_sec                start_time                  end_time  \\\n",
       "0         52185  2019-02-28 17:32:10.1450  2019-03-01 08:01:55.9750   \n",
       "1         42521  2019-02-28 18:53:21.7890  2019-03-01 06:42:03.0560   \n",
       "2         61854  2019-02-28 12:13:13.2180  2019-03-01 05:24:08.1460   \n",
       "3         36490  2019-02-28 17:54:26.0100  2019-03-01 04:02:36.8420   \n",
       "4          1585  2019-02-28 23:54:18.5490  2019-03-01 00:20:44.0740   \n",
       "\n",
       "   start_station_id                                start_station_name  \\\n",
       "0              21.0  Montgomery St BART Station (Market St at 2nd St)   \n",
       "1              23.0                     The Embarcadero at Steuart St   \n",
       "2              86.0                           Market St at Dolores St   \n",
       "3             375.0                           Grove St at Masonic Ave   \n",
       "4               7.0                               Frank H Ogawa Plaza   \n",
       "\n",
       "   start_station_latitude  start_station_longitude  end_station_id  \\\n",
       "0               37.789625              -122.400811            13.0   \n",
       "1               37.791464              -122.391034            81.0   \n",
       "2               37.769305              -122.426826             3.0   \n",
       "3               37.774836              -122.446546            70.0   \n",
       "4               37.804562              -122.271738           222.0   \n",
       "\n",
       "                               end_station_name  end_station_latitude  \\\n",
       "0                Commercial St at Montgomery St             37.794231   \n",
       "1                            Berry St at 4th St             37.775880   \n",
       "2  Powell St BART Station (Market St at 4th St)             37.786375   \n",
       "3                        Central Ave at Fell St             37.773311   \n",
       "4                         10th Ave at E 15th St             37.792714   \n",
       "\n",
       "   end_station_longitude  bike_id   user_type  member_birth_year  \\\n",
       "0            -122.402923     4902    Customer             1984.0   \n",
       "1            -122.393170     2535    Customer                NaN   \n",
       "2            -122.404904     5905    Customer             1972.0   \n",
       "3            -122.444293     6638  Subscriber             1989.0   \n",
       "4            -122.248780     4898  Subscriber             1974.0   \n",
       "\n",
       "  member_gender bike_share_for_all_trip  \n",
       "0          Male                      No  \n",
       "1           NaN                      No  \n",
       "2          Male                      No  \n",
       "3         Other                      No  \n",
       "4          Male                     Yes  "
      ]
     },
     "execution_count": 34,
     "metadata": {},
     "output_type": "execute_result"
    }
   ],
   "source": [
    "ford.head(5)"
   ]
  },
  {
   "cell_type": "code",
   "execution_count": 35,
   "metadata": {
    "scrolled": true
   },
   "outputs": [
    {
     "name": "stdout",
     "output_type": "stream",
     "text": [
      "<class 'pandas.core.frame.DataFrame'>\n",
      "RangeIndex: 183412 entries, 0 to 183411\n",
      "Data columns (total 16 columns):\n",
      " #   Column                   Non-Null Count   Dtype  \n",
      "---  ------                   --------------   -----  \n",
      " 0   duration_sec             183412 non-null  int64  \n",
      " 1   start_time               183412 non-null  object \n",
      " 2   end_time                 183412 non-null  object \n",
      " 3   start_station_id         183215 non-null  float64\n",
      " 4   start_station_name       183215 non-null  object \n",
      " 5   start_station_latitude   183412 non-null  float64\n",
      " 6   start_station_longitude  183412 non-null  float64\n",
      " 7   end_station_id           183215 non-null  float64\n",
      " 8   end_station_name         183215 non-null  object \n",
      " 9   end_station_latitude     183412 non-null  float64\n",
      " 10  end_station_longitude    183412 non-null  float64\n",
      " 11  bike_id                  183412 non-null  int64  \n",
      " 12  user_type                183412 non-null  object \n",
      " 13  member_birth_year        175147 non-null  float64\n",
      " 14  member_gender            175147 non-null  object \n",
      " 15  bike_share_for_all_trip  183412 non-null  object \n",
      "dtypes: float64(7), int64(2), object(7)\n",
      "memory usage: 22.4+ MB\n"
     ]
    }
   ],
   "source": [
    "ford.info()"
   ]
  },
  {
   "cell_type": "markdown",
   "metadata": {},
   "source": [
    "### What is/are the feature(s) of interest in your dataset?\n",
    "\n",
    "The main features of interest in the data are:\n",
    "- `duration_sec`: the main feature of exploration.\n",
    "- `start_time`and `end_time`: it can provide valuable data regarding the busiest hours.\n",
    "- `user_type`: it can provide valuable data regarding different behaviours from customers and suscribers.\n",
    "- `member_birth_year`: are young people using bikesharing more?\n",
    "- `member_gender`: is gender determinant while bikesharing? is there a different behaviour?"
   ]
  },
  {
   "cell_type": "markdown",
   "metadata": {},
   "source": [
    "The data needs some cleaning to convert the variables into its correct type. But first, a copy of the original dataframe will be done."
   ]
  },
  {
   "cell_type": "code",
   "execution_count": 36,
   "metadata": {},
   "outputs": [],
   "source": [
    "# Create a copy of the original\n",
    "ford_clean = ford.copy()\n",
    "\n",
    "# Drop missing values \n",
    "ford_clean.dropna(inplace=True)\n",
    "\n",
    "# Convert to date/time\n",
    "ford_clean[\"start_time\"] = pd.to_datetime(ford_clean[\"start_time\"])\n",
    "ford_clean[\"end_time\"] = pd.to_datetime(ford_clean[\"end_time\"])\n",
    "\n",
    "# Divide date/time variables in order to plot it correctly\n",
    "ford_clean[\"start_time_hour\"] = pd.DatetimeIndex(ford_clean[\"start_time\"]).hour.astype(\"category\")\n",
    "ford_clean[\"end_time_hour\"] = pd.DatetimeIndex(ford_clean[\"end_time\"]).hour.astype(\"category\")\n",
    "\n",
    "# Get day of the week for the start an end time.\n",
    "ford_clean[\"start_time_weekday\"] = ford_clean[\"start_time\"].dt.dayofweek\n",
    "ford_clean[\"end_time_weekday\"] = ford_clean[\"end_time\"].dt.dayofweek\n",
    "\n",
    "# Convert day of the week to string\n",
    "week_dict = {0: \"Monday\", 1: \"Tuesday\", 2: \"Wednesday\", 3: \"Thursday\", 4: \"Friday\", 5: \"Saturday\", 6: \"Sunday\"}\n",
    "\n",
    "ford_clean[\"start_time_weekday\"].replace(week_dict, inplace=True)\n",
    "ford_clean[\"end_time_weekday\"].replace(week_dict, inplace=True)\n",
    "\n",
    "# Convert to strings as not calculations are required for the data below\n",
    "to_clean = [\"start_station_id\", \"end_station_id\", \"bike_id\"]\n",
    "\n",
    "for i in to_clean:\n",
    "    ford_clean[i] = ford_clean[i].fillna(0).astype(int).astype(str) \n",
    "\n",
    "    \n",
    "# Convert to categorical values\n",
    "ford_clean[\"member_gender\"] = ford_clean[\"member_gender\"].astype(\"category\")\n",
    "ford_clean[\"user_type\"] = ford_clean[\"user_type\"].astype(\"category\")\n",
    "ford_clean[\"member_birth_year\"] = ford_clean[\"member_birth_year\"].astype(int).astype(\"category\")\n",
    "ford_clean[\"bike_share_for_all_trip\"] = ford_clean[\"bike_share_for_all_trip\"].astype(\"category\")\n",
    "ford_clean[\"start_time_weekday\"] = ford_clean[\"start_time_weekday\"].astype(\"category\")\n",
    "ford_clean[\"end_time_weekday\"] = ford_clean[\"end_time_weekday\"].astype(\"category\")\n",
    "    \n",
    "# Drop Columns not necessary for the analysis\n",
    "ford_clean.drop(labels=[\"start_station_latitude\", \"start_station_longitude\", \"end_station_latitude\", \"end_station_longitude\"], axis=1, inplace=True);"
   ]
  },
  {
   "cell_type": "code",
   "execution_count": 37,
   "metadata": {
    "scrolled": true
   },
   "outputs": [
    {
     "name": "stdout",
     "output_type": "stream",
     "text": [
      "<class 'pandas.core.frame.DataFrame'>\n",
      "Int64Index: 174952 entries, 0 to 183411\n",
      "Data columns (total 16 columns):\n",
      " #   Column                   Non-Null Count   Dtype         \n",
      "---  ------                   --------------   -----         \n",
      " 0   duration_sec             174952 non-null  int64         \n",
      " 1   start_time               174952 non-null  datetime64[ns]\n",
      " 2   end_time                 174952 non-null  datetime64[ns]\n",
      " 3   start_station_id         174952 non-null  object        \n",
      " 4   start_station_name       174952 non-null  object        \n",
      " 5   end_station_id           174952 non-null  object        \n",
      " 6   end_station_name         174952 non-null  object        \n",
      " 7   bike_id                  174952 non-null  object        \n",
      " 8   user_type                174952 non-null  category      \n",
      " 9   member_birth_year        174952 non-null  category      \n",
      " 10  member_gender            174952 non-null  category      \n",
      " 11  bike_share_for_all_trip  174952 non-null  category      \n",
      " 12  start_time_hour          174952 non-null  category      \n",
      " 13  end_time_hour            174952 non-null  category      \n",
      " 14  start_time_weekday       174952 non-null  category      \n",
      " 15  end_time_weekday         174952 non-null  category      \n",
      "dtypes: category(8), datetime64[ns](2), int64(1), object(5)\n",
      "memory usage: 13.4+ MB\n"
     ]
    }
   ],
   "source": [
    "ford_clean.info()"
   ]
  },
  {
   "cell_type": "code",
   "execution_count": 38,
   "metadata": {
    "scrolled": true
   },
   "outputs": [
    {
     "data": {
      "text/html": [
       "<div>\n",
       "<style scoped>\n",
       "    .dataframe tbody tr th:only-of-type {\n",
       "        vertical-align: middle;\n",
       "    }\n",
       "\n",
       "    .dataframe tbody tr th {\n",
       "        vertical-align: top;\n",
       "    }\n",
       "\n",
       "    .dataframe thead th {\n",
       "        text-align: right;\n",
       "    }\n",
       "</style>\n",
       "<table border=\"1\" class=\"dataframe\">\n",
       "  <thead>\n",
       "    <tr style=\"text-align: right;\">\n",
       "      <th></th>\n",
       "      <th>duration_sec</th>\n",
       "      <th>start_time</th>\n",
       "      <th>end_time</th>\n",
       "      <th>start_station_id</th>\n",
       "      <th>start_station_name</th>\n",
       "      <th>end_station_id</th>\n",
       "      <th>end_station_name</th>\n",
       "      <th>bike_id</th>\n",
       "      <th>user_type</th>\n",
       "      <th>member_birth_year</th>\n",
       "      <th>member_gender</th>\n",
       "      <th>bike_share_for_all_trip</th>\n",
       "      <th>start_time_hour</th>\n",
       "      <th>end_time_hour</th>\n",
       "      <th>start_time_weekday</th>\n",
       "      <th>end_time_weekday</th>\n",
       "    </tr>\n",
       "  </thead>\n",
       "  <tbody>\n",
       "    <tr>\n",
       "      <th>0</th>\n",
       "      <td>52185</td>\n",
       "      <td>2019-02-28 17:32:10.145</td>\n",
       "      <td>2019-03-01 08:01:55.975</td>\n",
       "      <td>21</td>\n",
       "      <td>Montgomery St BART Station (Market St at 2nd St)</td>\n",
       "      <td>13</td>\n",
       "      <td>Commercial St at Montgomery St</td>\n",
       "      <td>4902</td>\n",
       "      <td>Customer</td>\n",
       "      <td>1984</td>\n",
       "      <td>Male</td>\n",
       "      <td>No</td>\n",
       "      <td>17</td>\n",
       "      <td>8</td>\n",
       "      <td>Thursday</td>\n",
       "      <td>Friday</td>\n",
       "    </tr>\n",
       "    <tr>\n",
       "      <th>2</th>\n",
       "      <td>61854</td>\n",
       "      <td>2019-02-28 12:13:13.218</td>\n",
       "      <td>2019-03-01 05:24:08.146</td>\n",
       "      <td>86</td>\n",
       "      <td>Market St at Dolores St</td>\n",
       "      <td>3</td>\n",
       "      <td>Powell St BART Station (Market St at 4th St)</td>\n",
       "      <td>5905</td>\n",
       "      <td>Customer</td>\n",
       "      <td>1972</td>\n",
       "      <td>Male</td>\n",
       "      <td>No</td>\n",
       "      <td>12</td>\n",
       "      <td>5</td>\n",
       "      <td>Thursday</td>\n",
       "      <td>Friday</td>\n",
       "    </tr>\n",
       "    <tr>\n",
       "      <th>3</th>\n",
       "      <td>36490</td>\n",
       "      <td>2019-02-28 17:54:26.010</td>\n",
       "      <td>2019-03-01 04:02:36.842</td>\n",
       "      <td>375</td>\n",
       "      <td>Grove St at Masonic Ave</td>\n",
       "      <td>70</td>\n",
       "      <td>Central Ave at Fell St</td>\n",
       "      <td>6638</td>\n",
       "      <td>Subscriber</td>\n",
       "      <td>1989</td>\n",
       "      <td>Other</td>\n",
       "      <td>No</td>\n",
       "      <td>17</td>\n",
       "      <td>4</td>\n",
       "      <td>Thursday</td>\n",
       "      <td>Friday</td>\n",
       "    </tr>\n",
       "    <tr>\n",
       "      <th>4</th>\n",
       "      <td>1585</td>\n",
       "      <td>2019-02-28 23:54:18.549</td>\n",
       "      <td>2019-03-01 00:20:44.074</td>\n",
       "      <td>7</td>\n",
       "      <td>Frank H Ogawa Plaza</td>\n",
       "      <td>222</td>\n",
       "      <td>10th Ave at E 15th St</td>\n",
       "      <td>4898</td>\n",
       "      <td>Subscriber</td>\n",
       "      <td>1974</td>\n",
       "      <td>Male</td>\n",
       "      <td>Yes</td>\n",
       "      <td>23</td>\n",
       "      <td>0</td>\n",
       "      <td>Thursday</td>\n",
       "      <td>Friday</td>\n",
       "    </tr>\n",
       "    <tr>\n",
       "      <th>5</th>\n",
       "      <td>1793</td>\n",
       "      <td>2019-02-28 23:49:58.632</td>\n",
       "      <td>2019-03-01 00:19:51.760</td>\n",
       "      <td>93</td>\n",
       "      <td>4th St at Mission Bay Blvd S</td>\n",
       "      <td>323</td>\n",
       "      <td>Broadway at Kearny</td>\n",
       "      <td>5200</td>\n",
       "      <td>Subscriber</td>\n",
       "      <td>1959</td>\n",
       "      <td>Male</td>\n",
       "      <td>No</td>\n",
       "      <td>23</td>\n",
       "      <td>0</td>\n",
       "      <td>Thursday</td>\n",
       "      <td>Friday</td>\n",
       "    </tr>\n",
       "  </tbody>\n",
       "</table>\n",
       "</div>"
      ],
      "text/plain": [
       "   duration_sec              start_time                end_time  \\\n",
       "0         52185 2019-02-28 17:32:10.145 2019-03-01 08:01:55.975   \n",
       "2         61854 2019-02-28 12:13:13.218 2019-03-01 05:24:08.146   \n",
       "3         36490 2019-02-28 17:54:26.010 2019-03-01 04:02:36.842   \n",
       "4          1585 2019-02-28 23:54:18.549 2019-03-01 00:20:44.074   \n",
       "5          1793 2019-02-28 23:49:58.632 2019-03-01 00:19:51.760   \n",
       "\n",
       "  start_station_id                                start_station_name  \\\n",
       "0               21  Montgomery St BART Station (Market St at 2nd St)   \n",
       "2               86                           Market St at Dolores St   \n",
       "3              375                           Grove St at Masonic Ave   \n",
       "4                7                               Frank H Ogawa Plaza   \n",
       "5               93                      4th St at Mission Bay Blvd S   \n",
       "\n",
       "  end_station_id                              end_station_name bike_id  \\\n",
       "0             13                Commercial St at Montgomery St    4902   \n",
       "2              3  Powell St BART Station (Market St at 4th St)    5905   \n",
       "3             70                        Central Ave at Fell St    6638   \n",
       "4            222                         10th Ave at E 15th St    4898   \n",
       "5            323                            Broadway at Kearny    5200   \n",
       "\n",
       "    user_type member_birth_year member_gender bike_share_for_all_trip  \\\n",
       "0    Customer              1984          Male                      No   \n",
       "2    Customer              1972          Male                      No   \n",
       "3  Subscriber              1989         Other                      No   \n",
       "4  Subscriber              1974          Male                     Yes   \n",
       "5  Subscriber              1959          Male                      No   \n",
       "\n",
       "  start_time_hour end_time_hour start_time_weekday end_time_weekday  \n",
       "0              17             8           Thursday           Friday  \n",
       "2              12             5           Thursday           Friday  \n",
       "3              17             4           Thursday           Friday  \n",
       "4              23             0           Thursday           Friday  \n",
       "5              23             0           Thursday           Friday  "
      ]
     },
     "execution_count": 38,
     "metadata": {},
     "output_type": "execute_result"
    }
   ],
   "source": [
    "ford_clean.head()"
   ]
  },
  {
   "cell_type": "markdown",
   "metadata": {},
   "source": [
    "## Univariate Exploration"
   ]
  },
  {
   "cell_type": "code",
   "execution_count": 39,
   "metadata": {},
   "outputs": [],
   "source": [
    "# Set color\n",
    "base_color = sb.color_palette()[0]\n",
    "\n",
    "# Set Week Order\n",
    "week_order = [\"Monday\", \"Tuesday\", \"Wednesday\", \"Thursday\", \"Friday\", \"Saturday\", \"Sunday\"]"
   ]
  },
  {
   "cell_type": "code",
   "execution_count": 40,
   "metadata": {},
   "outputs": [
    {
     "data": {
      "image/png": "[encoded data removed]",
      "text/plain": [
       "<Figure size 1440x1440 with 9 Axes>"
      ]
     },
     "metadata": {
      "needs_background": "light"
     },
     "output_type": "display_data"
    }
   ],
   "source": [
    "fig, axs = plt.subplots(3, 3, figsize=[20,20])\n",
    "\n",
    "# Duration plot\n",
    "axs[0, 0].hist(ford_clean[\"duration_sec\"])\n",
    "axs[0, 0].set_title(\"Duration Distribution\")\n",
    "\n",
    "# Weekday start plot\n",
    "sb.countplot(data=ford_clean, x=\"start_time_weekday\", order=week_order, color=base_color, ax=axs[0, 1])\n",
    "axs[0, 1].set_xticklabels(axs[0, 1].get_xticklabels(), rotation=45)\n",
    "axs[0, 1].set(xlabel=None, title=\"Weekday Start Time Distribution\")\n",
    "\n",
    "\n",
    "# Weekday end plot\n",
    "sb.countplot(data=ford_clean, x=\"end_time_weekday\", order=week_order, color=base_color, ax=axs[0, 2])\n",
    "axs[0, 2].set_xticklabels(axs[0, 2].get_xticklabels(), rotation=45)\n",
    "axs[0, 2].set(xlabel=None, title='Weekday End Time Distribution')\n",
    "\n",
    "# User type plot\n",
    "sb.countplot(data=ford_clean, x=\"user_type\", color=base_color, ax=axs[1, 0])\n",
    "axs[1, 0].set_title(\"Type of user\")\n",
    "\n",
    "# Year of birth plot\n",
    "sb.countplot(data=ford_clean, x=\"member_birth_year\", color=base_color, ax=axs[1, 1])\n",
    "axs[1, 1].set_title(\"Year of birth of users\")\n",
    "axs[1, 1].tick_params(\n",
    "    axis='x',\n",
    "    which='both', \n",
    "    bottom=False,\n",
    "    top=False,\n",
    "    labelbottom=False\n",
    ")\n",
    "\n",
    "# Gender of member plot\n",
    "sb.countplot(data=ford_clean, x=\"member_gender\", color=base_color, ax=axs[1, 2])\n",
    "axs[1, 2].set_title(\"Gender of users\")\n",
    "\n",
    "# Bike sharing plot\n",
    "sb.countplot(data=ford_clean, x=\"bike_share_for_all_trip\", color=base_color, ax=axs[2, 0])\n",
    "axs[2, 0].set_title(\"Bike share for all trip\")\n",
    "\n",
    "# Busiest hours distribution\n",
    "sb.countplot(data=ford_clean, x=\"start_time_hour\", color=base_color, ax=axs[2, 1])\n",
    "axs[2, 1].set_title(\"Start time hour distribution\")\n",
    "\n",
    "# Busiest hours distribution\n",
    "sb.countplot(data=ford_clean, x=\"end_time_hour\", color=base_color, ax=axs[2, 2])\n",
    "axs[2, 2].set_title(\"End time hour distribution\")\n",
    "\n",
    "plt.show()"
   ]
  },
  {
   "cell_type": "markdown",
   "metadata": {},
   "source": [
    "After plotting all interesting variables together, two of them need to be reploted: the distribution for duration and the year of birth of users.\n",
    "\n",
    "Starting with the **distribution duration**. As we can see below, the chart does not give any visual advantage of the variable:"
   ]
  },
  {
   "cell_type": "code",
   "execution_count": 41,
   "metadata": {},
   "outputs": [
    {
     "data": {
      "image/png": "[encoded data removed]",
      "text/plain": [
       "<Figure size 432x288 with 1 Axes>"
      ]
     },
     "metadata": {
      "needs_background": "light"
     },
     "output_type": "display_data"
    }
   ],
   "source": [
    "fig, ax = plt.subplots()\n",
    "\n",
    "ax.hist(ford_clean[\"duration_sec\"])\n",
    "ax.set_title(\"Duration Distribution\")\n",
    "\n",
    "plt.show()"
   ]
  },
  {
   "cell_type": "markdown",
   "metadata": {},
   "source": [
    "To make it more visual, a smaller binsize of 10 seconds has been ploted. Because, there are some values around 80000 seconds that make the visualization not good, a limit to 3600 seconds (1 hour) should be enough to start noticing some differences."
   ]
  },
  {
   "cell_type": "code",
   "execution_count": 42,
   "metadata": {},
   "outputs": [
    {
     "data": {
      "image/png": "[encoded data removed]",
      "text/plain": [
       "<Figure size 864x288 with 1 Axes>"
      ]
     },
     "metadata": {
      "needs_background": "light"
     },
     "output_type": "display_data"
    }
   ],
   "source": [
    "binsize = 10\n",
    "bins = np.arange(0, ford_clean[\"duration_sec\"].max(), binsize)\n",
    "\n",
    "fig, ax = plt.subplots(figsize=[12,4])\n",
    "\n",
    "ax.hist(ford_clean[\"duration_sec\"], bins=bins)\n",
    "ax.set_title(\"Duration Distribution\")\n",
    "ax.set_xlim([0,3600])\n",
    "\n",
    "plt.show()"
   ]
  },
  {
   "cell_type": "code",
   "execution_count": 43,
   "metadata": {},
   "outputs": [],
   "source": [
    "ford_clean = ford_clean[ford_clean[\"duration_sec\"] <= 3600]"
   ]
  },
  {
   "cell_type": "markdown",
   "metadata": {},
   "source": [
    "Now we can clearly draw some conclusions from the histogram like the median time people rent the bike: around 500 seconds (8.5 minutes). All observations with values above 3600 seconds were  dropped to ensure the consistency of the analysis.\n",
    "\n",
    "Following with the **year of birth of users**, a modification is needed as well because we cannot draw any conclusion. All the missing values were filled with a 0 and the plot shows it:"
   ]
  },
  {
   "cell_type": "code",
   "execution_count": 44,
   "metadata": {},
   "outputs": [
    {
     "data": {
      "image/png": "[encoded data removed]",
      "text/plain": [
       "<Figure size 432x288 with 1 Axes>"
      ]
     },
     "metadata": {
      "needs_background": "light"
     },
     "output_type": "display_data"
    }
   ],
   "source": [
    "fig, ax = plt.subplots()\n",
    "\n",
    "sb.countplot(data=ford_clean, x=\"member_birth_year\", color=base_color, ax=ax)\n",
    "ax.set_title(\"Year of birth of users\")\n",
    "\n",
    "plt.show()"
   ]
  },
  {
   "cell_type": "markdown",
   "metadata": {},
   "source": [
    "Lets make the figure size bigger and rotate the x label to understand the chart better."
   ]
  },
  {
   "cell_type": "code",
   "execution_count": 45,
   "metadata": {},
   "outputs": [],
   "source": [
    "fig, ax = plt.subplots(figsize=[16,5])\n",
    "\n",
    "sb.countplot(data=ford_clean, x=\"member_birth_year\", color=base_color, ax=ax)\n",
    "ax.set_xticklabels(ax.get_xticklabels(), rotation=90)\n",
    "ax.set_title(\"Year of birth of users\")\n",
    "\n",
    "plt.show()"
   ]
  },
  {
   "cell_type": "markdown",
   "metadata": {},
   "source": [
    "In this case, we can clearly see that the most amount of people have been boorn between 1975 and 2000. Lets zoom in to find out and plot it on a countplot to dont mess with the ticks."
   ]
  },
  {
   "cell_type": "code",
   "execution_count": null,
   "metadata": {
    "scrolled": false
   },
   "outputs": [],
   "source": [
    "fig, ax = plt.subplots(figsize=[16,5])\n",
    "\n",
    "sb.countplot(data=ford_clean, x=\"member_birth_year\", color=base_color, ax=ax)\n",
    "ax.set_xticklabels(ax.get_xticklabels(), rotation=45)\n",
    "ax.set_xlim(43.5,75)\n",
    "ax.set_title(\"Year of birth of users\")\n",
    "\n",
    "plt.show()"
   ]
  },
  {
   "cell_type": "markdown",
   "metadata": {},
   "source": [
    "Now, it is clearly visible that the most common year of birth between users of the platform is 1988 followed by 1993. To perform further analysis, I will group the years of birth by decades in a new column."
   ]
  },
  {
   "cell_type": "code",
   "execution_count": null,
   "metadata": {},
   "outputs": [],
   "source": [
    "ford_clean[\"member_birth_decade\"] = (ford_clean.member_birth_year.astype(int)//10*10)"
   ]
  },
  {
   "cell_type": "markdown",
   "metadata": {},
   "source": [
    "The new plot:"
   ]
  },
  {
   "cell_type": "code",
   "execution_count": null,
   "metadata": {},
   "outputs": [],
   "source": [
    "fig, ax = plt.subplots(figsize=[12,4])\n",
    "\n",
    "sb.countplot(data=ford_clean, x=\"member_birth_decade\", color=base_color, ax=ax)\n",
    "\n",
    "ax.set_title(\"Decade of birth of users\")\n",
    "\n",
    "plt.show()"
   ]
  },
  {
   "cell_type": "markdown",
   "metadata": {},
   "source": [
    "This new plot also shows that some data within the dataset is probably impossible. Users born in the 1870s would be 150 years old now!! This is not plausible so we will drop all the values from people born before 1940.\n",
    "\n",
    "_Note: people born in the 1930's can still use the bike. However, the representation is the dataset is insignificance for the anlaysis and can make bivariate and multivariate exploration harder_"
   ]
  },
  {
   "cell_type": "code",
   "execution_count": null,
   "metadata": {},
   "outputs": [],
   "source": [
    "#Transformation\n",
    "ford_clean = ford_clean[ford_clean[\"member_birth_year\"].astype(int) >= 1940]\n",
    "\n",
    "#Plot to test\n",
    "fig, ax = plt.subplots(figsize=[12,4])\n",
    "\n",
    "sb.countplot(data=ford_clean, x=\"member_birth_decade\", color=base_color, ax=ax)\n",
    "\n",
    "ax.set_title(\"Decade of birth of users\")\n",
    "\n",
    "plt.show()"
   ]
  },
  {
   "cell_type": "markdown",
   "metadata": {},
   "source": [
    "### Discuss the distribution(s) of your variable(s) of interest. Were there any unusual points? Did you need to perform any transformations?\n",
    "\n",
    "In the **duration distribution**, a few anomalies were discovered. Some values were around 80,000 seconds which seems fairly unusual to rent a bike. They are probably misscalulations.\n",
    "\n",
    "In the **year of birth distribution**, the chart was not clear. Some values were also missintroduced. It is impossible for people born in the 1870s to ride a bike in 2019.\n",
    "\n",
    "### Of the features you investigated, were there any unusual distributions? Did you perform any operations on the data to tidy, adjust, or change the form of the data? If so, why did you do this?\n",
    "\n",
    "For the first problem, all the values above 3600 were dropped. The significance on the whole dataset is minimum as the frequency is so low. This way, we can assure more consistency in our data.\n",
    "\n",
    "For the second problem, all users with decades of birth older than 1940's were dropped."
   ]
  },
  {
   "cell_type": "markdown",
   "metadata": {},
   "source": [
    "## Bivariate Exploration\n",
    "\n",
    "First, lets explore the cuantitave variable with the categorical variables. This provides useful information regarding user habits and how duration depends on other variables."
   ]
  },
  {
   "cell_type": "code",
   "execution_count": null,
   "metadata": {},
   "outputs": [],
   "source": [
    "#Set figure size\n",
    "fig = plt.figure(figsize=(20,15))\n",
    "\n",
    "fig.suptitle('Ride duration by...', fontsize=30)\n",
    "\n",
    "#Duration per user \n",
    "ax1 = plt.subplot(231)\n",
    "sb.boxplot(data=ford_clean, x=\"user_type\", y=\"duration_sec\", color=base_color, ax=ax1)\n",
    "ax1.set(xlabel=None, title='user type')\n",
    "\n",
    "#Duration per decade of birth\n",
    "ax2 = plt.subplot(232, sharey=ax1)\n",
    "sb.boxplot(data=ford_clean, x=\"member_birth_decade\", y=\"duration_sec\", color=base_color, ax=ax2)\n",
    "ax2.set(xlabel=None, ylabel=None, title='birth decade')\n",
    "\n",
    "#Duration per gender\n",
    "ax3 = plt.subplot(233, sharey=ax1)\n",
    "sb.boxplot(data=ford_clean, x=\"member_gender\", y=\"duration_sec\", color=base_color, ax=ax3)\n",
    "ax3.set(xlabel=None, ylabel=None, title='gender')\n",
    "\n",
    "#Duration per start hour\n",
    "ax4 = plt.subplot(223)\n",
    "sb.boxplot(data=ford_clean, x=\"start_time_hour\", y=\"duration_sec\", color=base_color, ax=ax4)\n",
    "ax4.set(xlabel=None, title='start time')\n",
    "\n",
    "#Duration per start weekday\n",
    "ax5 = plt.subplot(224, sharey=ax4)\n",
    "sb.boxplot(data=ford_clean, x=\"start_time_weekday\", y=\"duration_sec\", color=base_color, order=week_order, ax=ax5)\n",
    "ax5.set(xlabel=None, ylabel=None, title='weekday')\n",
    "\n",
    "plt.show()"
   ]
  },
  {
   "cell_type": "markdown",
   "metadata": {},
   "source": [
    "Now, lets explore categorical variables:"
   ]
  },
  {
   "cell_type": "code",
   "execution_count": null,
   "metadata": {},
   "outputs": [],
   "source": [
    "fig = plt.figure(figsize=[20,20])\n",
    "\n",
    "fig.suptitle('Count of users by...', fontsize=30)\n",
    "\n",
    "#User type by gender\n",
    "ax1 = plt.subplot(5,2,1)\n",
    "sb.countplot(data=ford_clean, x=\"user_type\", hue=\"member_gender\", palette=\"Blues\", ax=ax1)\n",
    "ax1.set(xlabel=None, ylabel=None, title='type of user and gender')\n",
    "# Remove legend title\n",
    "handles, labels = ax1.get_legend_handles_labels()\n",
    "ax1.legend(handles=handles[:], labels=labels[:])\n",
    "\n",
    "#User type by decade of birth\n",
    "ax2 = plt.subplot(5,2,2)\n",
    "sb.countplot(data=ford_clean, x=\"user_type\", hue=\"member_birth_decade\", palette=\"Blues\", ax=ax2)\n",
    "ax2.set(xlabel=None, ylabel=None, title='type of user and decade of birth')\n",
    "# Remove legend title\n",
    "handles, labels = ax2.get_legend_handles_labels()\n",
    "ax2.legend(handles=handles[:], labels=labels[:])\n",
    "\n",
    "#User type by weekday\n",
    "ax3 = plt.subplot(5,2,3)\n",
    "sb.countplot(data=ford_clean, x=\"start_time_weekday\", hue=\"user_type\", palette=\"Blues\", order=week_order, ax=ax3)\n",
    "ax3.set(xlabel=None, ylabel=None, title='weekday and user type')\n",
    "# Remove legend title\n",
    "handles, labels = ax3.get_legend_handles_labels()\n",
    "ax3.legend(handles=handles[:], labels=labels[:])\n",
    "\n",
    "#User type by hour\n",
    "ax4 = plt.subplot(5,2,4)\n",
    "sb.countplot(data=ford_clean, x=\"start_time_hour\", hue=\"user_type\", palette=\"Blues\", ax=ax4)\n",
    "ax4.set(xlabel=None, ylabel=None, title='hour and user type')\n",
    "# Remove legend title\n",
    "handles, labels = ax4.get_legend_handles_labels()\n",
    "ax4.legend(handles=handles[:], labels=labels[:])\n",
    "\n",
    "#Hour by decade of birth\n",
    "ax5 = plt.subplot(5,1,3)\n",
    "sb.countplot(data=ford_clean, x=\"start_time_hour\", hue=\"member_birth_decade\", palette=\"Blues\", ax=ax5)\n",
    "ax5.set(xlabel=None, ylabel=None, title='hour and decade of birth')\n",
    "# Remove legend title\n",
    "handles, labels = ax5.get_legend_handles_labels()\n",
    "ax5.legend(handles=handles[:], labels=labels[:])\n",
    "\n",
    "#Day by decade of birth\n",
    "ax6 = plt.subplot(5,1,4)\n",
    "sb.countplot(data=ford_clean, x=\"start_time_weekday\", hue=\"member_birth_decade\", palette=\"Blues\", order=week_order, ax=ax6)\n",
    "ax6.set(xlabel=None, ylabel=None, title='weekday and decade of birth')\n",
    "# Remove legend title\n",
    "handles, labels = ax6.get_legend_handles_labels()\n",
    "ax6.legend(handles=handles[:], labels=labels[:])\n",
    "\n",
    "#Hour by startday\n",
    "ax7 = plt.subplot(5,1,5)\n",
    "sb.countplot(data=ford_clean, x=\"start_time_hour\", hue=\"start_time_weekday\", palette=\"Blues\", hue_order=week_order, ax=ax7)\n",
    "ax7.set(xlabel=None, ylabel=None, title='hour and weekday')\n",
    "# Remove legend title\n",
    "handles, labels = ax7.get_legend_handles_labels()\n",
    "ax7.legend(handles=handles[:], labels=labels[:])\n",
    "\n",
    "plt.show()"
   ]
  },
  {
   "cell_type": "markdown",
   "metadata": {},
   "source": [
    "### Talk about some of the relationships you observed in this part of the investigation. How did the feature(s) of interest vary with other features in the dataset?\n",
    "\n",
    "A lot of useful data was gathered from this plotting.\n",
    "\n",
    "**Customers tend to use the bike more time than suscribers**. This may be related with the usage. Subscribers might use the bike to commute everyday and prefer to pay a subscription rather than paying on the go.\n",
    "\n",
    "**Females rent the bike for longer time than males**. Again, this might be related with the usage.\n",
    "\n",
    "**On weekends, users rent the bike for longer time**. This may be explained by the different usage: probably leisure activities.\n",
    "\n",
    "**At 8 and 17, the bike is rented for longer**. This may be related to the work schedule. People entering their jobs or leaving. Traffic jams can also take part on this.\n",
    "\n",
    "### Did you observe any interesting relationships between the other features (not the main feature(s) of interest)?\n",
    "\n",
    "When plotting all the categorical values, few interesting obervations could be observed.\n",
    "\n",
    "**The proportion of male suscribers is higher than female suscribers**. On the other other hand, the proportion of male customers is not as high as female customers.\n",
    "\n",
    "The number of bike rides on Saturdays and Sundays is lower, we knew that. However, **the proportion of non-suscriber users who rent the bike these days of the week is higher**. In other words, less subscribers take the bike these days but the same amount of customers take it. This might have to do with leisure activites. Casual users taking the bike only on weekends while hardcore users taking the bike to commute only on weekdays.\n",
    "\n",
    "Very **few people take the bike early in the morning during weekends**. Also, during late night hours, more people rent the bike duyring weekends. This is probably related to people not having to wake early during weekends."
   ]
  },
  {
   "cell_type": "markdown",
   "metadata": {},
   "source": [
    "## Multivariate Exploration\n",
    "\n",
    "In this part of the exploration we will merge categorical values with the quantitative values to get a more precise view."
   ]
  },
  {
   "cell_type": "code",
   "execution_count": null,
   "metadata": {},
   "outputs": [],
   "source": [
    "#Set figure size\n",
    "fig = plt.figure(figsize=[20,20])\n",
    "\n",
    "#Plot 1: mean duration of bike rides by day of the week per user type\n",
    "ax1 = plt.subplot(3,2,1)\n",
    "cat_means = ford_clean.groupby(['user_type', 'start_time_weekday']).mean()['duration_sec']\n",
    "cat_means = cat_means.reset_index(name = 'duration_sec_avg')\n",
    "cat_means = cat_means.pivot(index = 'start_time_weekday', columns = 'user_type', values = 'duration_sec_avg')\n",
    "cat_means = cat_means.reindex(week_order)\n",
    "sb.heatmap(cat_means, annot = True, fmt = '.3f', cbar_kws = {'label' : 'Average ride'}, cmap='Blues', ax=ax1)\n",
    "ax1.set(xlabel=None, ylabel=None, title='Average ride by user type and day of the week')\n",
    "\n",
    "#Plot 2: mean duration of bike rides by day of the week per gender\n",
    "ax2 = plt.subplot(3,2,2)\n",
    "cat_means = ford_clean.groupby(['member_gender', 'start_time_weekday']).mean()['duration_sec']\n",
    "cat_means = cat_means.reset_index(name = 'duration_sec_avg')\n",
    "cat_means = cat_means.pivot(index = 'start_time_weekday', columns = 'member_gender', values = 'duration_sec_avg')\n",
    "cat_means = cat_means.reindex(week_order)\n",
    "sb.heatmap(cat_means, annot = True, fmt = '.3f', cbar_kws = {'label' : 'Average ride'}, cmap='Blues', ax=ax2)\n",
    "ax2.set(xlabel=None, ylabel=None, title='Average ride by gender and day of the week')\n",
    "\n",
    "#Plot 3: duration of bike rides by start time and user type\n",
    "ax3 = plt.subplot(3,1,2)\n",
    "sb.barplot(data=ford_clean, x= \"start_time_hour\", y=\"duration_sec\", hue=\"user_type\", palette='Blues', ax=ax3)\n",
    "ax3.legend(loc = 1, ncol = 3, framealpha = 1)\n",
    "ax3.set(xlabel=None, ylabel=None, title='Duration of the ride by user type and start time')\n",
    "\n",
    "#Plot 4: duration of bike rides by decade of birth and day of the week\n",
    "ax4 = plt.subplot(3,1,3)\n",
    "sb.pointplot(data = ford_clean, x = 'member_birth_decade', y = 'duration_sec', hue = 'start_time_weekday', dodge = 0.3, linestyles = \"\", hue_order=week_order, palette=\"Blues\", ax=ax4)\n",
    "ax4.legend(loc=\"lower right\", ncol=4)\n",
    "ax4.set(xlabel=None, ylabel=None, title='Duration of the ride by weekday and decade of birth')\n",
    "\n",
    "plt.show()"
   ]
  },
  {
   "cell_type": "markdown",
   "metadata": {},
   "source": [
    "### Talk about some of the relationships you observed in this part of the investigation. Were there features that strengthened each other in terms of looking at your feature(s) of interest?\n",
    "\n",
    "Some conclusions were strenghtened. Now we know that **subscribers take the bike for shorter rides than customers** on average. This might have to do with the cost of unlocking the bike. Suscribers pay a flat rate to unlock the bike while customers have to make the most out of paying for unlocking the bike.\n",
    "\n",
    "**Weekends rides are longer than weekdays**. We discussed this before. However, now its proven that weekends rides are longer. This might relate to the fact that, on weekends, people use the bike for leisure activites rather than commuting.\n",
    "\n",
    "**Males rent the bike for less time than women**. This might relate to the fact that men probably ride the bike faster than women or that women like to use the bike in a different way.\n",
    "\n",
    "It does not matter when the subscribers take the bike, **the duration of the ride stays the same**. This may have to do with subscribers knowing the city better than normal customers and going straight to the point. \n",
    "\n",
    "It also depends when you are born on how you use the bike. **The older you are, the more time on average you spend on a bike**.\n",
    "\n",
    "### Were there any interesting or surprising interactions between features?\n",
    "\n",
    "There is a really interesting interaction between the genres. Women on average spend more time on the bike than men."
   ]
  }
 ],
 "metadata": {
  "kernelspec": {
   "display_name": "Python 3",
   "language": "python",
   "name": "python3"
  },
  "language_info": {
   "codemirror_mode": {
    "name": "ipython",
    "version": 3
   },
   "file_extension": ".py",
   "mimetype": "text/x-python",
   "name": "python",
   "nbconvert_exporter": "python",
   "pygments_lexer": "ipython3",
   "version": "3.9.7"
  }
 },
 "nbformat": 4,
 "nbformat_minor": 2
}
