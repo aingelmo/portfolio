{
 "cells": [
  {
   "cell_type": "markdown",
   "id": "e121d745",
   "metadata": {},
   "source": [
    "# WeRateDogs data insights"
   ]
  },
  {
   "cell_type": "markdown",
   "id": "7e595f95",
   "metadata": {},
   "source": [
    "<a id='introduction'></a>\n",
    "## Introduction\n",
    "\n",
    "At this point, you may be wondering, \"OK, WeRateDogs is a great profile but... what is their most popular content? What are the most common breeds?\" These questions and more will be answered in the following report. I decided to analyze 2000+ tweets from WeRateDogs between the years 2015 and 2017 to solve your doubts.\n",
    "\n",
    "![doggie](img/dog-portrait.jpg)"
   ]
  },
  {
   "cell_type": "markdown",
   "id": "0322fc5d",
   "metadata": {},
   "source": [
    "<a id='analysis'></a>\n",
    "## Analysis\n",
    "\n",
    "[WeRateDogs](https://twitter.com/dog_rates) joined Twitter on November, 2015. Since then, they have been one of the most viral and active dog accounts on the platform but... have they always bee so active? We can get a visual representation of **how WeRateDogs have been tweeting** along the timerame analyzed.\n",
    "\n",
    "![tweets over time](img/tweets_OT.png)"
   ]
  },
  {
   "cell_type": "markdown",
   "id": "9c207479",
   "metadata": {},
   "source": [
    "The graph above shows the amount of tweets posted by the account between November 15th, 2015 and August 1st, 2017. The distribution is right skewed so more tweets were posted in the early stages of the account. This might be related to the fact they were less known by that time. Some social media profiles, as they began to be more known, they stop releasing content so frequently as, in some cases, it can reduce the quality of it.\n",
    "\n",
    "It is a really interesting fact knowing about the tweets frequency but you may be wondering, what is the **most common dog breed posted in WeRateDogs?** To answer this, well analyze data from a neural network. This neural network analyzed each of the pictures in WeRateDogs tweets and predicted its breed.\n",
    "\n",
    "![breeds](img/common_breeds.png)"
   ]
  },
  {
   "cell_type": "markdown",
   "id": "efd10124",
   "metadata": {},
   "source": [
    "The most common dog breed identified by the algorithm was the golden retriever with almost 150 results. It is follow by the labrador retriever with 100 and the pembroke, also known as corgi, with 89. But, can we say that golden retriever is the most common dog breed posted in WeRateDogs? Of course not. We do not have enough evicende to support that hypothesis. The data we analyzed was only from 2015 to 2017. They may be biased when posting content about this type of dogs. Maybe they attract more audience, maybe they look more cute... we don't know that for sure based on this data.\n",
    "\n",
    "Now we know they like to post pictures of golden retrievers, labrador retrievers an corgis. Let's find out their **most popular tweets** within that range. Their most retweeted tweet is a [doggo realizing he can stand in the pool](https://twitter.com/dog_rates/status/744234799360020481). How cool is that? It has almost 150K retweets by the time I'm writing this! \n",
    "\n",
    "![most-retweeted](img/most-retweeted.jpg)\n",
    "\n",
    "However, not all the popular tweets can be measured in retweets, they can also be done in likes. This [little puppo supporting Toronto Womens March](https://twitter.com/dog_rates/status/822872901745569793) is the champion. More than 125K people have already like him. What are you waiting for?\n",
    "\n",
    "![most-liked](img/most-liked.jpg)\n"
   ]
  },
  {
   "cell_type": "markdown",
   "id": "1097a558",
   "metadata": {},
   "source": [
    "To finish this analysis, we ran a test to know if the **most popular breeds made the most popular tweets** and we were very surpised with the results. The golden retriever, chihuahua and labrador retriever were in that list. And this is not a coincidence. WeRateDogs knows what the people like, what we demand as consumers. And they deliver. \n",
    "\n",
    "They know that our favourite dogs are the goldens, labradors and corgis and they post about them. The probabilities of going viral with one of those breeds seem to be higher than others. It would be also interesting to analyse their best rated dog breed but we'll leave that for another day.\n",
    "\n",
    "_More information and files can be found at my [GitHub](https://github.com/aingelmo/Data-Analyst-Nano/tree/main/Project_5_Wrange%20and%20Analyze%20Data)._\n"
   ]
  }
 ],
 "metadata": {
  "kernelspec": {
   "display_name": "Python 3",
   "language": "python",
   "name": "python3"
  },
  "language_info": {
   "codemirror_mode": {
    "name": "ipython",
    "version": 3
   },
   "file_extension": ".py",
   "mimetype": "text/x-python",
   "name": "python",
   "nbconvert_exporter": "python",
   "pygments_lexer": "ipython3",
   "version": "3.8.8"
  }
 },
 "nbformat": 4,
 "nbformat_minor": 5
}
